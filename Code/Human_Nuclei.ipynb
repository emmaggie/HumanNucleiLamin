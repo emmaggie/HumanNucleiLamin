{
 "cells": [
  {
   "cell_type": "markdown",
   "metadata": {},
   "source": [
    "#I. Data folder"
   ]
  },
  {
   "cell_type": "markdown",
   "metadata": {},
   "source": [
    "Data are saved in three relevant files: \\*SegmentedNuclei.csv, \\*ShrunkenNuclei.csv and \\*Speckles.csv. For the purpose of the project (recognizing discrimanant variables for follow-up hypothesis-driven experimentation), only the first two will be considered."
   ]
  },
  {
   "cell_type": "code",
   "execution_count": 1,
   "metadata": {
    "collapsed": false
   },
   "outputs": [
    {
     "name": "stdout",
     "output_type": "stream",
     "text": [
      "total 131640\r\n",
      "-rw-r--r--  1 Tango  staff    26K Feb 11 23:54 Anne_20160211Experiment.csv\r\n",
      "-rw-r--r--  1 Tango  staff   236K Feb 11 23:54 Anne_20160211Image.csv\r\n",
      "-rw-r--r--  1 Tango  staff   9.6M Feb 11 23:54 Anne_20160211SegmentedNuclei.csv\r\n",
      "-rw-r--r--  1 Tango  staff    10M Feb 11 23:55 Anne_20160211ShrunkenNuclei.csv\r\n",
      "-rw-r--r--  1 Tango  staff    44M Feb 11 23:55 Anne_20160211Speckles.csv\r\n"
     ]
    }
   ],
   "source": [
    "!ls -lh ../Data/"
   ]
  },
  {
   "cell_type": "markdown",
   "metadata": {},
   "source": [
    "Below, we will determine how many columns/variables we have in the dataset."
   ]
  },
  {
   "cell_type": "code",
   "execution_count": 2,
   "metadata": {
    "collapsed": false
   },
   "outputs": [
    {
     "name": "stdout",
     "output_type": "stream",
     "text": [
      "155\r\n",
      "155\r\n"
     ]
    }
   ],
   "source": [
    "!head -n2 ../Data/Anne_20160211SegmentedNuclei.csv | awk 'BEGIN{FS=\",\"}{print NF}'"
   ]
  },
  {
   "cell_type": "code",
   "execution_count": 3,
   "metadata": {
    "collapsed": false
   },
   "outputs": [
    {
     "name": "stdout",
     "output_type": "stream",
     "text": [
      "    3549\r\n"
     ]
    }
   ],
   "source": [
    "!tail -n +2 ../Data/Anne_20160211SegmentedNuclei.csv | wc -l "
   ]
  },
  {
   "cell_type": "code",
   "execution_count": 4,
   "metadata": {
    "collapsed": false
   },
   "outputs": [
    {
     "name": "stdout",
     "output_type": "stream",
     "text": [
      "177\r\n",
      "177\r\n"
     ]
    }
   ],
   "source": [
    "!head -n2 ../Data/Anne_20160211ShrunkenNuclei.csv | awk 'BEGIN{FS=\",\"}{print NF}'"
   ]
  },
  {
   "cell_type": "markdown",
   "metadata": {},
   "source": [
    "The file above has additional variables quantified."
   ]
  },
  {
   "cell_type": "code",
   "execution_count": 5,
   "metadata": {
    "collapsed": false
   },
   "outputs": [
    {
     "name": "stdout",
     "output_type": "stream",
     "text": [
      "    3549\r\n"
     ]
    }
   ],
   "source": [
    "!tail -n +2 ../Data/Anne_20160211ShrunkenNuclei.csv | wc -l "
   ]
  },
  {
   "cell_type": "code",
   "execution_count": 6,
   "metadata": {
    "collapsed": false
   },
   "outputs": [
    {
     "name": "stdout",
     "output_type": "stream",
     "text": [
      "82\r\n",
      "82\r\n"
     ]
    }
   ],
   "source": [
    "!head -n2 ../Data/Anne_20160211Speckles.csv | awk 'BEGIN{FS=\",\"}{print NF}'"
   ]
  },
  {
   "cell_type": "code",
   "execution_count": 7,
   "metadata": {
    "collapsed": false
   },
   "outputs": [
    {
     "name": "stdout",
     "output_type": "stream",
     "text": [
      "   32211\r\n"
     ]
    }
   ],
   "source": [
    "!tail -n +2 ../Data/Anne_20160211Speckles.csv  | wc -l "
   ]
  },
  {
   "cell_type": "markdown",
   "metadata": {},
   "source": [
    "#II. Dataset preparation    \n",
    "##Final dataset assembly \n",
    "In general, data are spread across the three files listed above, albeit there is most likely quite some redundancy. In the spirit of Andrew Ng advice, we'll build one dataset and then drop some of the feaures. Speckle descriptors will be kept seperate. At the moment there is no point in putting "
   ]
  },
  {
   "cell_type": "code",
   "execution_count": 8,
   "metadata": {
    "collapsed": true
   },
   "outputs": [],
   "source": [
    "import pandas as pd\n",
    "import numpy as np\n",
    "import matplotlib.pyplot as plt\n",
    "import re\n",
    "pd.set_option('display.mpl_style','default')\n",
    "\n",
    "from matplotlib.backends.backend_pdf import PdfPages\n",
    "\n",
    "import sklearn\n",
    "\n",
    "%load_ext rpy2.ipython\n",
    "%matplotlib inline"
   ]
  },
  {
   "cell_type": "markdown",
   "metadata": {},
   "source": [
    "Below is the list of variables in the file describing detected nuclei."
   ]
  },
  {
   "cell_type": "code",
   "execution_count": 9,
   "metadata": {
    "collapsed": false,
    "scrolled": true
   },
   "outputs": [
    {
     "name": "stdout",
     "output_type": "stream",
     "text": [
      "ImageNumber,ObjectNumber,Metadata_ExperimentID,Metadata_FileLocation,Metadata_Frame,Metadata_ImageID,Metadata_Series,Metadata_Stain,Metadata_Treatment,AreaShape_Area,AreaShape_Center_X,AreaShape_Center_Y,AreaShape_Compactness,AreaShape_Eccentricity,AreaShape_EulerNumber,AreaShape_Extent,AreaShape_FormFactor,AreaShape_MajorAxisLength,AreaShape_MaxFeretDiameter,AreaShape_MaximumRadius,AreaShape_MeanRadius,AreaShape_MedianRadius,AreaShape_MinFeretDiameter,AreaShape_MinorAxisLength,AreaShape_Orientation,AreaShape_Perimeter,AreaShape_Solidity,AreaShape_Zernike_0_0,AreaShape_Zernike_1_1,AreaShape_Zernike_2_0,AreaShape_Zernike_2_2,AreaShape_Zernike_3_1,AreaShape_Zernike_3_3,AreaShape_Zernike_4_0,AreaShape_Zernike_4_2,AreaShape_Zernike_4_4,AreaShape_Zernike_5_1,AreaShape_Zernike_5_3,AreaShape_Zernike_5_5,AreaShape_Zernike_6_0,AreaShape_Zernike_6_2,AreaShape_Zernike_6_4,AreaShape_Zernike_6_6,AreaShape_Zernike_7_1,AreaShape_Zernike_7_3,AreaShape_Zernike_7_5,AreaShape_Zernike_7_7,AreaShape_Zernike_8_0,AreaShape_Zernike_8_2,AreaShape_Zernike_8_4,AreaShape_Zernike_8_6,AreaShape_Zernike_8_8,AreaShape_Zernike_9_1,AreaShape_Zernike_9_3,AreaShape_Zernike_9_5,AreaShape_Zernike_9_7,AreaShape_Zernike_9_9,Intensity_IntegratedIntensityEdge_ImageAfterMathLamina,Intensity_IntegratedIntensityEdge_RawInput,Intensity_IntegratedIntensity_ImageAfterMathLamina,Intensity_IntegratedIntensity_RawInput,Intensity_LowerQuartileIntensity_ImageAfterMathLamina,Intensity_LowerQuartileIntensity_RawInput,Intensity_MADIntensity_ImageAfterMathLamina,Intensity_MADIntensity_RawInput,Intensity_MassDisplacement_ImageAfterMathLamina,Intensity_MassDisplacement_RawInput,Intensity_MaxIntensityEdge_ImageAfterMathLamina,Intensity_MaxIntensityEdge_RawInput,Intensity_MaxIntensity_ImageAfterMathLamina,Intensity_MaxIntensity_RawInput,Intensity_MeanIntensityEdge_ImageAfterMathLamina,Intensity_MeanIntensityEdge_RawInput,Intensity_MeanIntensity_ImageAfterMathLamina,Intensity_MeanIntensity_RawInput,Intensity_MedianIntensity_ImageAfterMathLamina,Intensity_MedianIntensity_RawInput,Intensity_MinIntensityEdge_ImageAfterMathLamina,Intensity_MinIntensityEdge_RawInput,Intensity_MinIntensity_ImageAfterMathLamina,Intensity_MinIntensity_RawInput,Intensity_StdIntensityEdge_ImageAfterMathLamina,Intensity_StdIntensityEdge_RawInput,Intensity_StdIntensity_ImageAfterMathLamina,Intensity_StdIntensity_RawInput,Intensity_UpperQuartileIntensity_ImageAfterMathLamina,Intensity_UpperQuartileIntensity_RawInput,Location_CenterMassIntensity_X_ImageAfterMathLamina,Location_CenterMassIntensity_X_RawInput,Location_CenterMassIntensity_Y_ImageAfterMathLamina,Location_CenterMassIntensity_Y_RawInput,Location_Center_X,Location_Center_Y,Location_MaxIntensity_X_ImageAfterMathLamina,Location_MaxIntensity_X_RawInput,Location_MaxIntensity_Y_ImageAfterMathLamina,Location_MaxIntensity_Y_RawInput,Math_AreaSquareMicron,Math_AspectRatioNuclei,Math_MaxFeretMicron,Math_MinFeretMicron,Math_TotalSpeckleToNucleusArea,Number_Object_Number,Texture_AngularSecondMoment_RawInput_10_0,Texture_AngularSecondMoment_RawInput_10_90,Texture_AngularSecondMoment_RawInput_5_0,Texture_AngularSecondMoment_RawInput_5_90,Texture_Contrast_RawInput_10_0,Texture_Contrast_RawInput_10_90,Texture_Contrast_RawInput_5_0,Texture_Contrast_RawInput_5_90,Texture_Correlation_RawInput_10_0,Texture_Correlation_RawInput_10_90,Texture_Correlation_RawInput_5_0,Texture_Correlation_RawInput_5_90,Texture_DifferenceEntropy_RawInput_10_0,Texture_DifferenceEntropy_RawInput_10_90,Texture_DifferenceEntropy_RawInput_5_0,Texture_DifferenceEntropy_RawInput_5_90,Texture_DifferenceVariance_RawInput_10_0,Texture_DifferenceVariance_RawInput_10_90,Texture_DifferenceVariance_RawInput_5_0,Texture_DifferenceVariance_RawInput_5_90,Texture_Entropy_RawInput_10_0,Texture_Entropy_RawInput_10_90,Texture_Entropy_RawInput_5_0,Texture_Entropy_RawInput_5_90,Texture_InfoMeas1_RawInput_10_0,Texture_InfoMeas1_RawInput_10_90,Texture_InfoMeas1_RawInput_5_0,Texture_InfoMeas1_RawInput_5_90,Texture_InfoMeas2_RawInput_10_0,Texture_InfoMeas2_RawInput_10_90,Texture_InfoMeas2_RawInput_5_0,Texture_InfoMeas2_RawInput_5_90,Texture_InverseDifferenceMoment_RawInput_10_0,Texture_InverseDifferenceMoment_RawInput_10_90,Texture_InverseDifferenceMoment_RawInput_5_0,Texture_InverseDifferenceMoment_RawInput_5_90,Texture_SumAverage_RawInput_10_0,Texture_SumAverage_RawInput_10_90,Texture_SumAverage_RawInput_5_0,Texture_SumAverage_RawInput_5_90,Texture_SumEntropy_RawInput_10_0,Texture_SumEntropy_RawInput_10_90,Texture_SumEntropy_RawInput_5_0,Texture_SumEntropy_RawInput_5_90,Texture_SumVariance_RawInput_10_0,Texture_SumVariance_RawInput_10_90,Texture_SumVariance_RawInput_5_0,Texture_SumVariance_RawInput_5_90,Texture_Variance_RawInput_10_0,Texture_Variance_RawInput_10_90,Texture_Variance_RawInput_5_0,Texture_Variance_RawInput_5_90\r",
      "\r\n",
      "1,1,Exp1,file:/Volumes/Seagate_RED/A_Heald_Lab/A_My_papers/AA_TECH_PAPER/REVISION/Anne/Exp1_R3-4si_LaminB1_0.tiff,0,0,0,LaminB1,R3-4si,26722,1595.0,326.0,1.0462537609019933,0.65928139673099251,1.0,0.81828760411562962,0.87074307371722792,212.83718327239069,208.92582415776178,78.517513969814402,29.48038936394245,26.305892875931811,156.0,160.03148975158982,-85.494852534220016,621.00399999999831,0.99032724307897557,0.7794102719295759,0.056362194579523135,0.13568010812882503,0.084372319841177698,0.0048178860944158583,0.0040270863286956515,0.043692561836059692,0.012529922154957353,0.012595860062722531,0.025508145461014996,0.013491784704121925,0.0079728819232503644,0.0033338003784051111,0.01438271898830043,0.014195253540381788,0.0028479033271716302,0.0076150883075205801,0.0013290456975355287,0.0032914338838534981,0.0035767151267308405,0.0015603445152653167,0.0074758382386276136,0.002678345417295845,0.0075141599983138494,0.0036429471910852632,0.0097038585866951951,0.010251703811933638,0.0067227776910936182,0.0039056384136503587,0.0012022843529685071,13.321569107938558,13.321569107938558,1974.3529950864613,3283.6863649804145,0.0,0.050980392843484879,0.0,0.043137256056070328,5.3387387818951231,1.8551968462772193,0.12941177189350128,0.12941177189350128,1.0,1.0,0.01834926874371702,0.01834926874371702,0.073884926094097053,0.12288325593070933,0.0,0.086274512112140656,0.0,0.0,0.0,0.0,0.018936390179202248,0.018936390179202248,0.1362964137822979,0.12536777188067663,0.098039217293262482,0.14117647707462311,1592.2916021159747,1592.4587395839608,331.15063162528674,327.6525521309224,1592.2235236883466,325.81232692163758,1650.0,1626.0,277.0,252.0,293.52460236000002,1.3392681035753959,21.896763497008042,16.349798399999997,0.018561484918793506,1,0.26007073326088592,0.2751864433961615,0.30355348503842361,0.32051251462089869,1.8984866312330102,1.7245149491094149,1.4156218363055835,1.2162933261364075,0.078625561311312236,0.16359816838810715,0.30349395612826818,0.39734472305251611,1.2188780562113501,1.1707814944450898,1.0841749039620223,1.0248335452623172,1.2682901582805086,1.1849747033582894,1.0105189794722986,0.88579135320594959,1.9915880969153983,1.9806962844237341,1.9233218083996562,1.8792653038213156,-0.0072241625176207875,-0.020993477712899503,-0.059515873037140954,-0.093373876492254052,0.12031445310682158,0.20313030045310684,0.33366918226747783,0.41003881059497505,0.70068589736932618,0.72143359549188579,0.75138067682628551,0.7706503558832164,3.1077210208138921,3.1096930661577606,3.0914259014095471,3.0813509658017511,1.4538692806528992,1.4555798820310304,1.4343293914896182,1.4201893810153436,2.2221365963297401,2.3991076984124815,2.6493003653722602,2.820154584653519,1.0396991456806715,1.0305548309535026,1.0161947995904037,1.009116679077751\r",
      "\r\n"
     ]
    }
   ],
   "source": [
    "!head -n2 ../Data/Anne_20160211SegmentedNuclei.csv"
   ]
  },
  {
   "cell_type": "code",
   "execution_count": 10,
   "metadata": {
    "collapsed": false,
    "scrolled": true
   },
   "outputs": [
    {
     "name": "stdout",
     "output_type": "stream",
     "text": [
      "ImageNumber,ObjectNumber,Metadata_ExperimentID,Metadata_FileLocation,Metadata_Frame,Metadata_ImageID,Metadata_Series,Metadata_Stain,Metadata_Treatment,Children_Speckles_Count,Intensity_IntegratedIntensityEdge_ImageAfterMathLamina,Intensity_IntegratedIntensityEdge_RawInput,Intensity_IntegratedIntensity_ImageAfterMathLamina,Intensity_IntegratedIntensity_RawInput,Intensity_LowerQuartileIntensity_ImageAfterMathLamina,Intensity_LowerQuartileIntensity_RawInput,Intensity_MADIntensity_ImageAfterMathLamina,Intensity_MADIntensity_RawInput,Intensity_MassDisplacement_ImageAfterMathLamina,Intensity_MassDisplacement_RawInput,Intensity_MaxIntensityEdge_ImageAfterMathLamina,Intensity_MaxIntensityEdge_RawInput,Intensity_MaxIntensity_ImageAfterMathLamina,Intensity_MaxIntensity_RawInput,Intensity_MeanIntensityEdge_ImageAfterMathLamina,Intensity_MeanIntensityEdge_RawInput,Intensity_MeanIntensity_ImageAfterMathLamina,Intensity_MeanIntensity_RawInput,Intensity_MedianIntensity_ImageAfterMathLamina,Intensity_MedianIntensity_RawInput,Intensity_MinIntensityEdge_ImageAfterMathLamina,Intensity_MinIntensityEdge_RawInput,Intensity_MinIntensity_ImageAfterMathLamina,Intensity_MinIntensity_RawInput,Intensity_StdIntensityEdge_ImageAfterMathLamina,Intensity_StdIntensityEdge_RawInput,Intensity_StdIntensity_ImageAfterMathLamina,Intensity_StdIntensity_RawInput,Intensity_UpperQuartileIntensity_ImageAfterMathLamina,Intensity_UpperQuartileIntensity_RawInput,Location_CenterMassIntensity_X_ImageAfterMathLamina,Location_CenterMassIntensity_X_RawInput,Location_CenterMassIntensity_Y_ImageAfterMathLamina,Location_CenterMassIntensity_Y_RawInput,Location_Center_X,Location_Center_Y,Location_MaxIntensity_X_ImageAfterMathLamina,Location_MaxIntensity_X_RawInput,Location_MaxIntensity_Y_ImageAfterMathLamina,Location_MaxIntensity_Y_RawInput,Math_FractionOfSignalInSpecklesInterior,Math_TotalIntegratedSpeckleIntensity,Math_TotalSpeckleAreaEstimateMicron,Math_TotalSpeckleToNucleusArea,Mean_Speckles_AreaShape_Area,Mean_Speckles_AreaShape_Center_X,Mean_Speckles_AreaShape_Center_Y,Mean_Speckles_AreaShape_Compactness,Mean_Speckles_AreaShape_Eccentricity,Mean_Speckles_AreaShape_EulerNumber,Mean_Speckles_AreaShape_Extent,Mean_Speckles_AreaShape_FormFactor,Mean_Speckles_AreaShape_MajorAxisLength,Mean_Speckles_AreaShape_MaxFeretDiameter,Mean_Speckles_AreaShape_MaximumRadius,Mean_Speckles_AreaShape_MeanRadius,Mean_Speckles_AreaShape_MedianRadius,Mean_Speckles_AreaShape_MinFeretDiameter,Mean_Speckles_AreaShape_MinorAxisLength,Mean_Speckles_AreaShape_Orientation,Mean_Speckles_AreaShape_Perimeter,Mean_Speckles_AreaShape_Solidity,Mean_Speckles_AreaShape_Zernike_0_0,Mean_Speckles_AreaShape_Zernike_1_1,Mean_Speckles_AreaShape_Zernike_2_0,Mean_Speckles_AreaShape_Zernike_2_2,Mean_Speckles_AreaShape_Zernike_3_1,Mean_Speckles_AreaShape_Zernike_3_3,Mean_Speckles_AreaShape_Zernike_4_0,Mean_Speckles_AreaShape_Zernike_4_2,Mean_Speckles_AreaShape_Zernike_4_4,Mean_Speckles_AreaShape_Zernike_5_1,Mean_Speckles_AreaShape_Zernike_5_3,Mean_Speckles_AreaShape_Zernike_5_5,Mean_Speckles_AreaShape_Zernike_6_0,Mean_Speckles_AreaShape_Zernike_6_2,Mean_Speckles_AreaShape_Zernike_6_4,Mean_Speckles_AreaShape_Zernike_6_6,Mean_Speckles_AreaShape_Zernike_7_1,Mean_Speckles_AreaShape_Zernike_7_3,Mean_Speckles_AreaShape_Zernike_7_5,Mean_Speckles_AreaShape_Zernike_7_7,Mean_Speckles_AreaShape_Zernike_8_0,Mean_Speckles_AreaShape_Zernike_8_2,Mean_Speckles_AreaShape_Zernike_8_4,Mean_Speckles_AreaShape_Zernike_8_6,Mean_Speckles_AreaShape_Zernike_8_8,Mean_Speckles_AreaShape_Zernike_9_1,Mean_Speckles_AreaShape_Zernike_9_3,Mean_Speckles_AreaShape_Zernike_9_5,Mean_Speckles_AreaShape_Zernike_9_7,Mean_Speckles_AreaShape_Zernike_9_9,Mean_Speckles_Intensity_IntegratedIntensityEdge_RawInput,Mean_Speckles_Intensity_IntegratedIntensity_RawInput,Mean_Speckles_Intensity_LowerQuartileIntensity_RawInput,Mean_Speckles_Intensity_MADIntensity_RawInput,Mean_Speckles_Intensity_MassDisplacement_RawInput,Mean_Speckles_Intensity_MaxIntensityEdge_RawInput,Mean_Speckles_Intensity_MaxIntensity_RawInput,Mean_Speckles_Intensity_MeanIntensityEdge_RawInput,Mean_Speckles_Intensity_MeanIntensity_RawInput,Mean_Speckles_Intensity_MedianIntensity_RawInput,Mean_Speckles_Intensity_MinIntensityEdge_RawInput,Mean_Speckles_Intensity_MinIntensity_RawInput,Mean_Speckles_Intensity_StdIntensityEdge_RawInput,Mean_Speckles_Intensity_StdIntensity_RawInput,Mean_Speckles_Intensity_UpperQuartileIntensity_RawInput,Mean_Speckles_Location_CenterMassIntensity_X_RawInput,Mean_Speckles_Location_CenterMassIntensity_Y_RawInput,Mean_Speckles_Location_Center_X,Mean_Speckles_Location_Center_Y,Mean_Speckles_Location_MaxIntensity_X_RawInput,Mean_Speckles_Location_MaxIntensity_Y_RawInput,Mean_Speckles_Number_Object_Number,Number_Object_Number,Texture_AngularSecondMoment_RawInput_10_0,Texture_AngularSecondMoment_RawInput_10_90,Texture_AngularSecondMoment_RawInput_5_0,Texture_AngularSecondMoment_RawInput_5_90,Texture_Contrast_RawInput_10_0,Texture_Contrast_RawInput_10_90,Texture_Contrast_RawInput_5_0,Texture_Contrast_RawInput_5_90,Texture_Correlation_RawInput_10_0,Texture_Correlation_RawInput_10_90,Texture_Correlation_RawInput_5_0,Texture_Correlation_RawInput_5_90,Texture_DifferenceEntropy_RawInput_10_0,Texture_DifferenceEntropy_RawInput_10_90,Texture_DifferenceEntropy_RawInput_5_0,Texture_DifferenceEntropy_RawInput_5_90,Texture_DifferenceVariance_RawInput_10_0,Texture_DifferenceVariance_RawInput_10_90,Texture_DifferenceVariance_RawInput_5_0,Texture_DifferenceVariance_RawInput_5_90,Texture_Entropy_RawInput_10_0,Texture_Entropy_RawInput_10_90,Texture_Entropy_RawInput_5_0,Texture_Entropy_RawInput_5_90,Texture_InfoMeas1_RawInput_10_0,Texture_InfoMeas1_RawInput_10_90,Texture_InfoMeas1_RawInput_5_0,Texture_InfoMeas1_RawInput_5_90,Texture_InfoMeas2_RawInput_10_0,Texture_InfoMeas2_RawInput_10_90,Texture_InfoMeas2_RawInput_5_0,Texture_InfoMeas2_RawInput_5_90,Texture_InverseDifferenceMoment_RawInput_10_0,Texture_InverseDifferenceMoment_RawInput_10_90,Texture_InverseDifferenceMoment_RawInput_5_0,Texture_InverseDifferenceMoment_RawInput_5_90,Texture_SumAverage_RawInput_10_0,Texture_SumAverage_RawInput_10_90,Texture_SumAverage_RawInput_5_0,Texture_SumAverage_RawInput_5_90,Texture_SumEntropy_RawInput_10_0,Texture_SumEntropy_RawInput_10_90,Texture_SumEntropy_RawInput_5_0,Texture_SumEntropy_RawInput_5_90,Texture_SumVariance_RawInput_10_0,Texture_SumVariance_RawInput_10_90,Texture_SumVariance_RawInput_5_0,Texture_SumVariance_RawInput_5_90,Texture_Variance_RawInput_10_0,Texture_Variance_RawInput_10_90,Texture_Variance_RawInput_5_0,Texture_Variance_RawInput_5_90\r",
      "\r\n",
      "1,1,Exp1,file:/Volumes/Seagate_RED/A_Heald_Lab/A_My_papers/AA_TECH_PAPER/REVISION/Anne/Exp1_R3-4si_LaminB1_0.tiff,0,0,0,LaminB1,R3-4si,15,0.0,62.176472373306751,0.0,1309.3333698939532,0.0,0.058823529630899429,0.0,0.027450978755950928,nan,3.5837176111245874,0.0,0.60784316062927246,0.0,0.9529411792755127,0.0,0.11284296256498504,0.0,0.094618685496022051,0.0,0.08235294371843338,0.0,0.019607843831181526,0.0,0.0,0.0,0.059739987897667296,0.0,0.064367131442566825,0.0,0.11372549086809158,nan,1592.7107673471703,nan,322.37777346450207,1591.8058245411187,325.84535337476512,1584.0,1614.0,404.0,261.0,0.10328860656690733,135.23921930789948,5.4482524800000007,0.018561484918793506,33.06666666666667,1585.4666666666667,316.66666666666669,1.0690300666102628,0.63708186637319675,1.0,0.74982624716553292,0.80119543920521941,7.3247585315137096,6.6850267851244132,2.7044577011889523,1.4064607278404582,1.2047378541243652,4.5834065112792786,5.4144682644722995,-31.749558456928,21.74173333333334,0.91489271401873118,0.88089202044160897,0.10731528188424555,0.1003772868719251,0.1023334203448806,0.072670965922806585,0.05764396559604678,0.10586002690907791,0.08446911803329761,0.063712961990569916,0.066976481902956478,0.047712717856453798,0.057681098370739689,0.15261288600751716,0.076721780281837529,0.091010319107268048,0.056646469443124584,0.061495838804762462,0.065681623664126956,0.070394907150219441,0.050773423110829073,0.14539611047254444,0.073467361850446208,0.084805694393157133,0.090753538621610091,0.084678825726945545,0.066680791382490626,0.057406986522349983,0.056527143952019056,0.059064559339193419,0.071691747906433137,4.4253595953186355,9.0159479538599658,0.18405229151248931,0.061699351171652476,0.12047025422918203,0.34771242737770081,0.52575164635976157,0.21407703634632705,0.25909687490899036,0.24431373129288356,0.11843137542406718,0.11843137542406718,0.059397900350033513,0.10107999227535351,0.32339870333671572,1585.3619491961499,316.98951102611568,1585.3675529455179,316.97837307878768,1585.5999999999999,316.66666666666669,8.0,1,0.43659567881939371,0.4401506648456957,0.44437984848198886,0.44608323821822138,0.66803043940757734,0.6464845287772617,0.61387886696860361,0.55879692446856621,0.006213838055557851,0.010579390981853261,0.10661272765660953,0.17044354352722085,0.82219636084342596,0.81514939434246614,0.79127851374014857,0.77525313173746402,0.49997136646366169,0.48302694917517514,0.46366088785761367,0.41657026168491912,1.2460149330367418,1.2308290075219794,1.243262854944335,1.2351636222278659,-0.001765432174142862,-0.0030486944295940984,-0.012645887532284518,-0.020390524746829983,0.047656537247988101,0.061792376783163114,0.12646263035161226,0.15887712012372862,0.81754626119109619,0.8191792792250373,0.82568294864846359,0.8275604893251951,2.5081417232632357,2.4994094953153296,2.5120902740462117,2.5097994874114273,0.95250994064070627,0.94162311754399819,0.95654232958933438,0.95203140190578872,0.67559446023527581,0.66004610433941158,0.76002500820125285,0.78827273229583239,0.30567773397762144,0.35329441359414898,0.33270549232004398,0.34693908443883131\r",
      "\r\n"
     ]
    }
   ],
   "source": [
    "!head -n2 ../Data/Anne_20160211ShrunkenNuclei.csv"
   ]
  },
  {
   "cell_type": "code",
   "execution_count": 11,
   "metadata": {
    "collapsed": false,
    "scrolled": true
   },
   "outputs": [
    {
     "name": "stdout",
     "output_type": "stream",
     "text": [
      "ImageNumber,ObjectNumber,Metadata_ExperimentID,Metadata_FileLocation,Metadata_Frame,Metadata_ImageID,Metadata_Series,Metadata_Stain,Metadata_Treatment,AreaShape_Area,AreaShape_Center_X,AreaShape_Center_Y,AreaShape_Compactness,AreaShape_Eccentricity,AreaShape_EulerNumber,AreaShape_Extent,AreaShape_FormFactor,AreaShape_MajorAxisLength,AreaShape_MaxFeretDiameter,AreaShape_MaximumRadius,AreaShape_MeanRadius,AreaShape_MedianRadius,AreaShape_MinFeretDiameter,AreaShape_MinorAxisLength,AreaShape_Orientation,AreaShape_Perimeter,AreaShape_Solidity,AreaShape_Zernike_0_0,AreaShape_Zernike_1_1,AreaShape_Zernike_2_0,AreaShape_Zernike_2_2,AreaShape_Zernike_3_1,AreaShape_Zernike_3_3,AreaShape_Zernike_4_0,AreaShape_Zernike_4_2,AreaShape_Zernike_4_4,AreaShape_Zernike_5_1,AreaShape_Zernike_5_3,AreaShape_Zernike_5_5,AreaShape_Zernike_6_0,AreaShape_Zernike_6_2,AreaShape_Zernike_6_4,AreaShape_Zernike_6_6,AreaShape_Zernike_7_1,AreaShape_Zernike_7_3,AreaShape_Zernike_7_5,AreaShape_Zernike_7_7,AreaShape_Zernike_8_0,AreaShape_Zernike_8_2,AreaShape_Zernike_8_4,AreaShape_Zernike_8_6,AreaShape_Zernike_8_8,AreaShape_Zernike_9_1,AreaShape_Zernike_9_3,AreaShape_Zernike_9_5,AreaShape_Zernike_9_7,AreaShape_Zernike_9_9,Distance_Centroid_ShrunkenNuclei,Distance_Minimum_ShrunkenNuclei,Intensity_IntegratedIntensityEdge_RawInput,Intensity_IntegratedIntensity_RawInput,Intensity_LowerQuartileIntensity_RawInput,Intensity_MADIntensity_RawInput,Intensity_MassDisplacement_RawInput,Intensity_MaxIntensityEdge_RawInput,Intensity_MaxIntensity_RawInput,Intensity_MeanIntensityEdge_RawInput,Intensity_MeanIntensity_RawInput,Intensity_MedianIntensity_RawInput,Intensity_MinIntensityEdge_RawInput,Intensity_MinIntensity_RawInput,Intensity_StdIntensityEdge_RawInput,Intensity_StdIntensity_RawInput,Intensity_UpperQuartileIntensity_RawInput,Location_CenterMassIntensity_X_RawInput,Location_CenterMassIntensity_Y_RawInput,Location_Center_X,Location_Center_Y,Location_MaxIntensity_X_RawInput,Location_MaxIntensity_Y_RawInput,Number_Object_Number,Parent_ShrunkenNuclei\r",
      "\r\n",
      "1,1,Exp1,file:/Volumes/Seagate_RED/A_Heald_Lab/A_My_papers/AA_TECH_PAPER/REVISION/Anne/Exp1_R3-4si_LaminB1_0.tiff,0,0,0,LaminB1,R3-4si,9,1607.0,258.0,0.99979354682144306,0.6875670757006066,1.0,0.75,0.85756294257835974,3.9710389916197637,3.1622776601683795,1.4142135623730951,1.0920474583051323,1.0,2.0,2.8834542834693928,-69.699352677497771,11.484,0.90000000000000002,1.1459155902616462,0.30663668798773797,0.33104228163114191,0.12732395447351624,0.30663668798773785,0.082907352498413495,0.65699160508334331,0.12732395447351619,0.19966734527738345,0.30663668798773741,0.082907352498413397,0.11766827713551177,0.8199662668094424,0.1273239544735156,0.28338273761016164,0.12732395447351608,0.30663668798773708,0.082907352498413259,0.11766827713551162,0.27141711613403885,0.42882707866679598,0.12732395447351563,0.12401895914684477,0.12732395447351583,0.54033601008441545,0.30663668798774429,0.082907352498414078,0.11766827713551141,0.27141711613403835,0.24881588049370268,68.851105858539555,5.5086912249957898,2.0705882906913757,2.0705882906913757,0.18333333730697632,0.054901972413063049,0.15516566774481227,0.30196079611778259,0.30196079611778259,0.23006536563237509,0.23006536563237509,0.24509803950786591,0.13333334028720856,0.13333334028720856,0.06007385956497506,0.06007385956497506,0.29509805142879486,1606.7405303038481,258.71212120099921,1606.8888888888889,258.66666666666669,1607.0,258.0,1,1\r",
      "\r\n"
     ]
    }
   ],
   "source": [
    "!head -n2 ../Data/Anne_20160211Speckles.csv"
   ]
  },
  {
   "cell_type": "markdown",
   "metadata": {},
   "source": [
    "Loading data..."
   ]
  },
  {
   "cell_type": "code",
   "execution_count": 12,
   "metadata": {
    "collapsed": false
   },
   "outputs": [],
   "source": [
    "df_n = pd.read_csv('../Data/Anne_20160211SegmentedNuclei.csv')\n",
    "df_sn = pd.read_csv('../Data/Anne_20160211ShrunkenNuclei.csv')\n",
    "df_sp = pd.read_csv('../Data/Anne_20160211Speckles.csv')"
   ]
  },
  {
   "cell_type": "markdown",
   "metadata": {},
   "source": [
    "Dimensions of individual datasets:"
   ]
  },
  {
   "cell_type": "code",
   "execution_count": 13,
   "metadata": {
    "collapsed": false
   },
   "outputs": [
    {
     "data": {
      "text/plain": [
       "((3549, 155), (3549, 177), (32211, 82))"
      ]
     },
     "execution_count": 13,
     "metadata": {},
     "output_type": "execute_result"
    }
   ],
   "source": [
    "df_n.shape, df_sn.shape, df_sp.shape"
   ]
  },
  {
   "cell_type": "markdown",
   "metadata": {},
   "source": [
    "Merged nuclei and shrunken nuclei should have dimensions: "
   ]
  },
  {
   "cell_type": "code",
   "execution_count": 14,
   "metadata": {
    "collapsed": false
   },
   "outputs": [
    {
     "data": {
      "text/plain": [
       "330"
      ]
     },
     "execution_count": 14,
     "metadata": {},
     "output_type": "execute_result"
    }
   ],
   "source": [
    "155+177-2"
   ]
  },
  {
   "cell_type": "code",
   "execution_count": 15,
   "metadata": {
    "collapsed": false,
    "scrolled": false
   },
   "outputs": [
    {
     "data": {
      "text/plain": [
       "(0    1\n",
       " 1    1\n",
       " 2    1\n",
       " 3    1\n",
       " 4    1\n",
       " Name: ImageNumber, dtype: int64, 0    1\n",
       " 1    1\n",
       " 2    1\n",
       " 3    1\n",
       " 4    1\n",
       " Name: ImageNumber, dtype: int64, 0    1\n",
       " 1    1\n",
       " 2    1\n",
       " 3    1\n",
       " 4    1\n",
       " Name: ImageNumber, dtype: int64)"
      ]
     },
     "execution_count": 15,
     "metadata": {},
     "output_type": "execute_result"
    }
   ],
   "source": [
    "df_n.ImageNumber.head(), \\\n",
    "df_sn.ImageNumber.head(), \\\n",
    "df_sp.ImageNumber.head(), \\"
   ]
  },
  {
   "cell_type": "code",
   "execution_count": 16,
   "metadata": {
    "collapsed": false
   },
   "outputs": [
    {
     "data": {
      "text/plain": [
       "(0    1\n",
       " 1    2\n",
       " 2    3\n",
       " 3    4\n",
       " 4    5\n",
       " Name: ObjectNumber, dtype: int64, 0    1\n",
       " 1    2\n",
       " 2    3\n",
       " 3    4\n",
       " 4    5\n",
       " Name: ObjectNumber, dtype: int64, 0    0\n",
       " 1    0\n",
       " 2    0\n",
       " 3    0\n",
       " 4    0\n",
       " Name: Metadata_ImageID, dtype: int64)"
      ]
     },
     "execution_count": 16,
     "metadata": {},
     "output_type": "execute_result"
    }
   ],
   "source": [
    "df_n.ObjectNumber.head(), \\\n",
    "df_sn.ObjectNumber.head(), \\\n",
    "df_n.Metadata_ImageID.head(), \\\n",
    "#df_nuclei.Metadata_FileLocation.head()[0], \\\n",
    "#df_sh_nuclei.Metadata_FileLocation.head()[0]"
   ]
  },
  {
   "cell_type": "markdown",
   "metadata": {},
   "source": [
    "Best idea is to merge data on file location or ID AND object ID."
   ]
  },
  {
   "cell_type": "code",
   "execution_count": 17,
   "metadata": {
    "collapsed": false
   },
   "outputs": [
    {
     "data": {
      "text/html": [
       "<div style=\"max-height:1000px;max-width:1500px;overflow:auto;\">\n",
       "<table border=\"1\" class=\"dataframe\">\n",
       "  <thead>\n",
       "    <tr style=\"text-align: right;\">\n",
       "      <th></th>\n",
       "      <th>ImageNumber</th>\n",
       "      <th>ObjectNumber</th>\n",
       "      <th>Metadata_ExperimentID</th>\n",
       "      <th>Metadata_FileLocation</th>\n",
       "    </tr>\n",
       "  </thead>\n",
       "  <tbody>\n",
       "    <tr>\n",
       "      <th>0</th>\n",
       "      <td>1</td>\n",
       "      <td>1</td>\n",
       "      <td>Exp1</td>\n",
       "      <td>file:/Volumes/Seagate_RED/A_Heald_Lab/A_My_pap...</td>\n",
       "    </tr>\n",
       "    <tr>\n",
       "      <th>1</th>\n",
       "      <td>1</td>\n",
       "      <td>2</td>\n",
       "      <td>Exp1</td>\n",
       "      <td>file:/Volumes/Seagate_RED/A_Heald_Lab/A_My_pap...</td>\n",
       "    </tr>\n",
       "    <tr>\n",
       "      <th>2</th>\n",
       "      <td>1</td>\n",
       "      <td>3</td>\n",
       "      <td>Exp1</td>\n",
       "      <td>file:/Volumes/Seagate_RED/A_Heald_Lab/A_My_pap...</td>\n",
       "    </tr>\n",
       "    <tr>\n",
       "      <th>3</th>\n",
       "      <td>1</td>\n",
       "      <td>4</td>\n",
       "      <td>Exp1</td>\n",
       "      <td>file:/Volumes/Seagate_RED/A_Heald_Lab/A_My_pap...</td>\n",
       "    </tr>\n",
       "    <tr>\n",
       "      <th>4</th>\n",
       "      <td>1</td>\n",
       "      <td>5</td>\n",
       "      <td>Exp1</td>\n",
       "      <td>file:/Volumes/Seagate_RED/A_Heald_Lab/A_My_pap...</td>\n",
       "    </tr>\n",
       "  </tbody>\n",
       "</table>\n",
       "</div>"
      ],
      "text/plain": [
       "   ImageNumber  ObjectNumber Metadata_ExperimentID  \\\n",
       "0            1             1                  Exp1   \n",
       "1            1             2                  Exp1   \n",
       "2            1             3                  Exp1   \n",
       "3            1             4                  Exp1   \n",
       "4            1             5                  Exp1   \n",
       "\n",
       "                               Metadata_FileLocation  \n",
       "0  file:/Volumes/Seagate_RED/A_Heald_Lab/A_My_pap...  \n",
       "1  file:/Volumes/Seagate_RED/A_Heald_Lab/A_My_pap...  \n",
       "2  file:/Volumes/Seagate_RED/A_Heald_Lab/A_My_pap...  \n",
       "3  file:/Volumes/Seagate_RED/A_Heald_Lab/A_My_pap...  \n",
       "4  file:/Volumes/Seagate_RED/A_Heald_Lab/A_My_pap...  "
      ]
     },
     "execution_count": 17,
     "metadata": {},
     "output_type": "execute_result"
    }
   ],
   "source": [
    "df_n.iloc[0:5,0:4]"
   ]
  },
  {
   "cell_type": "code",
   "execution_count": 18,
   "metadata": {
    "collapsed": false
   },
   "outputs": [
    {
     "data": {
      "text/html": [
       "<div style=\"max-height:1000px;max-width:1500px;overflow:auto;\">\n",
       "<table border=\"1\" class=\"dataframe\">\n",
       "  <thead>\n",
       "    <tr style=\"text-align: right;\">\n",
       "      <th></th>\n",
       "      <th>ImageNumber</th>\n",
       "      <th>ObjectNumber</th>\n",
       "      <th>Metadata_ExperimentID</th>\n",
       "      <th>Metadata_FileLocation</th>\n",
       "    </tr>\n",
       "  </thead>\n",
       "  <tbody>\n",
       "    <tr>\n",
       "      <th>0</th>\n",
       "      <td>1</td>\n",
       "      <td>1</td>\n",
       "      <td>Exp1</td>\n",
       "      <td>file:/Volumes/Seagate_RED/A_Heald_Lab/A_My_pap...</td>\n",
       "    </tr>\n",
       "    <tr>\n",
       "      <th>1</th>\n",
       "      <td>1</td>\n",
       "      <td>2</td>\n",
       "      <td>Exp1</td>\n",
       "      <td>file:/Volumes/Seagate_RED/A_Heald_Lab/A_My_pap...</td>\n",
       "    </tr>\n",
       "    <tr>\n",
       "      <th>2</th>\n",
       "      <td>1</td>\n",
       "      <td>3</td>\n",
       "      <td>Exp1</td>\n",
       "      <td>file:/Volumes/Seagate_RED/A_Heald_Lab/A_My_pap...</td>\n",
       "    </tr>\n",
       "    <tr>\n",
       "      <th>3</th>\n",
       "      <td>1</td>\n",
       "      <td>4</td>\n",
       "      <td>Exp1</td>\n",
       "      <td>file:/Volumes/Seagate_RED/A_Heald_Lab/A_My_pap...</td>\n",
       "    </tr>\n",
       "    <tr>\n",
       "      <th>4</th>\n",
       "      <td>1</td>\n",
       "      <td>5</td>\n",
       "      <td>Exp1</td>\n",
       "      <td>file:/Volumes/Seagate_RED/A_Heald_Lab/A_My_pap...</td>\n",
       "    </tr>\n",
       "  </tbody>\n",
       "</table>\n",
       "</div>"
      ],
      "text/plain": [
       "   ImageNumber  ObjectNumber Metadata_ExperimentID  \\\n",
       "0            1             1                  Exp1   \n",
       "1            1             2                  Exp1   \n",
       "2            1             3                  Exp1   \n",
       "3            1             4                  Exp1   \n",
       "4            1             5                  Exp1   \n",
       "\n",
       "                               Metadata_FileLocation  \n",
       "0  file:/Volumes/Seagate_RED/A_Heald_Lab/A_My_pap...  \n",
       "1  file:/Volumes/Seagate_RED/A_Heald_Lab/A_My_pap...  \n",
       "2  file:/Volumes/Seagate_RED/A_Heald_Lab/A_My_pap...  \n",
       "3  file:/Volumes/Seagate_RED/A_Heald_Lab/A_My_pap...  \n",
       "4  file:/Volumes/Seagate_RED/A_Heald_Lab/A_My_pap...  "
      ]
     },
     "execution_count": 18,
     "metadata": {},
     "output_type": "execute_result"
    }
   ],
   "source": [
    "df_sn.iloc[0:5, 0:4]"
   ]
  },
  {
   "cell_type": "code",
   "execution_count": 19,
   "metadata": {
    "collapsed": true
   },
   "outputs": [],
   "source": [
    "m_nuc = pd.merge(df_n, df_sn, how = 'left', on = ['ImageNumber', 'ObjectNumber'])"
   ]
  },
  {
   "cell_type": "code",
   "execution_count": 20,
   "metadata": {
    "collapsed": false
   },
   "outputs": [
    {
     "data": {
      "text/plain": [
       "(3549, 330)"
      ]
     },
     "execution_count": 20,
     "metadata": {},
     "output_type": "execute_result"
    }
   ],
   "source": [
    "m_nuc.shape"
   ]
  },
  {
   "cell_type": "code",
   "execution_count": 21,
   "metadata": {
    "collapsed": false
   },
   "outputs": [
    {
     "data": {
      "text/plain": [
       "Index([u'ImageNumber', u'ObjectNumber', u'Metadata_ExperimentID_x',\n",
       "       u'Metadata_FileLocation_x', u'Metadata_Frame_x', u'Metadata_ImageID_x',\n",
       "       u'Metadata_Series_x', u'Metadata_Stain_x', u'Metadata_Treatment_x',\n",
       "       u'AreaShape_Area', \n",
       "       ...\n",
       "       u'Texture_SumEntropy_RawInput_5_0_y',\n",
       "       u'Texture_SumEntropy_RawInput_5_90_y',\n",
       "       u'Texture_SumVariance_RawInput_10_0_y',\n",
       "       u'Texture_SumVariance_RawInput_10_90_y',\n",
       "       u'Texture_SumVariance_RawInput_5_0_y',\n",
       "       u'Texture_SumVariance_RawInput_5_90_y',\n",
       "       u'Texture_Variance_RawInput_10_0_y',\n",
       "       u'Texture_Variance_RawInput_10_90_y',\n",
       "       u'Texture_Variance_RawInput_5_0_y',\n",
       "       u'Texture_Variance_RawInput_5_90_y'],\n",
       "      dtype='object', length=330)"
      ]
     },
     "execution_count": 21,
     "metadata": {},
     "output_type": "execute_result"
    }
   ],
   "source": [
    "m_nuc.columns"
   ]
  },
  {
   "cell_type": "markdown",
   "metadata": {},
   "source": [
    "The dimensions are as planned."
   ]
  },
  {
   "cell_type": "code",
   "execution_count": 22,
   "metadata": {
    "collapsed": false,
    "scrolled": true
   },
   "outputs": [
    {
     "data": {
      "text/html": [
       "<div style=\"max-height:1000px;max-width:1500px;overflow:auto;\">\n",
       "<table border=\"1\" class=\"dataframe\">\n",
       "  <thead>\n",
       "    <tr style=\"text-align: right;\">\n",
       "      <th></th>\n",
       "      <th>ImageNumber</th>\n",
       "      <th>ObjectNumber</th>\n",
       "      <th>Metadata_ExperimentID</th>\n",
       "      <th>Metadata_FileLocation</th>\n",
       "      <th>Metadata_Frame</th>\n",
       "    </tr>\n",
       "  </thead>\n",
       "  <tbody>\n",
       "    <tr>\n",
       "      <th>0</th>\n",
       "      <td>1</td>\n",
       "      <td>1</td>\n",
       "      <td>Exp1</td>\n",
       "      <td>file:/Volumes/Seagate_RED/A_Heald_Lab/A_My_pap...</td>\n",
       "      <td>0</td>\n",
       "    </tr>\n",
       "    <tr>\n",
       "      <th>1</th>\n",
       "      <td>1</td>\n",
       "      <td>2</td>\n",
       "      <td>Exp1</td>\n",
       "      <td>file:/Volumes/Seagate_RED/A_Heald_Lab/A_My_pap...</td>\n",
       "      <td>0</td>\n",
       "    </tr>\n",
       "    <tr>\n",
       "      <th>2</th>\n",
       "      <td>1</td>\n",
       "      <td>3</td>\n",
       "      <td>Exp1</td>\n",
       "      <td>file:/Volumes/Seagate_RED/A_Heald_Lab/A_My_pap...</td>\n",
       "      <td>0</td>\n",
       "    </tr>\n",
       "    <tr>\n",
       "      <th>3</th>\n",
       "      <td>1</td>\n",
       "      <td>4</td>\n",
       "      <td>Exp1</td>\n",
       "      <td>file:/Volumes/Seagate_RED/A_Heald_Lab/A_My_pap...</td>\n",
       "      <td>0</td>\n",
       "    </tr>\n",
       "    <tr>\n",
       "      <th>4</th>\n",
       "      <td>1</td>\n",
       "      <td>5</td>\n",
       "      <td>Exp1</td>\n",
       "      <td>file:/Volumes/Seagate_RED/A_Heald_Lab/A_My_pap...</td>\n",
       "      <td>0</td>\n",
       "    </tr>\n",
       "    <tr>\n",
       "      <th>5</th>\n",
       "      <td>1</td>\n",
       "      <td>6</td>\n",
       "      <td>Exp1</td>\n",
       "      <td>file:/Volumes/Seagate_RED/A_Heald_Lab/A_My_pap...</td>\n",
       "      <td>0</td>\n",
       "    </tr>\n",
       "    <tr>\n",
       "      <th>6</th>\n",
       "      <td>1</td>\n",
       "      <td>7</td>\n",
       "      <td>Exp1</td>\n",
       "      <td>file:/Volumes/Seagate_RED/A_Heald_Lab/A_My_pap...</td>\n",
       "      <td>0</td>\n",
       "    </tr>\n",
       "    <tr>\n",
       "      <th>7</th>\n",
       "      <td>1</td>\n",
       "      <td>8</td>\n",
       "      <td>Exp1</td>\n",
       "      <td>file:/Volumes/Seagate_RED/A_Heald_Lab/A_My_pap...</td>\n",
       "      <td>0</td>\n",
       "    </tr>\n",
       "    <tr>\n",
       "      <th>8</th>\n",
       "      <td>1</td>\n",
       "      <td>9</td>\n",
       "      <td>Exp1</td>\n",
       "      <td>file:/Volumes/Seagate_RED/A_Heald_Lab/A_My_pap...</td>\n",
       "      <td>0</td>\n",
       "    </tr>\n",
       "    <tr>\n",
       "      <th>9</th>\n",
       "      <td>1</td>\n",
       "      <td>10</td>\n",
       "      <td>Exp1</td>\n",
       "      <td>file:/Volumes/Seagate_RED/A_Heald_Lab/A_My_pap...</td>\n",
       "      <td>0</td>\n",
       "    </tr>\n",
       "    <tr>\n",
       "      <th>10</th>\n",
       "      <td>1</td>\n",
       "      <td>11</td>\n",
       "      <td>Exp1</td>\n",
       "      <td>file:/Volumes/Seagate_RED/A_Heald_Lab/A_My_pap...</td>\n",
       "      <td>0</td>\n",
       "    </tr>\n",
       "    <tr>\n",
       "      <th>11</th>\n",
       "      <td>1</td>\n",
       "      <td>12</td>\n",
       "      <td>Exp1</td>\n",
       "      <td>file:/Volumes/Seagate_RED/A_Heald_Lab/A_My_pap...</td>\n",
       "      <td>0</td>\n",
       "    </tr>\n",
       "    <tr>\n",
       "      <th>12</th>\n",
       "      <td>1</td>\n",
       "      <td>13</td>\n",
       "      <td>Exp1</td>\n",
       "      <td>file:/Volumes/Seagate_RED/A_Heald_Lab/A_My_pap...</td>\n",
       "      <td>0</td>\n",
       "    </tr>\n",
       "    <tr>\n",
       "      <th>13</th>\n",
       "      <td>1</td>\n",
       "      <td>14</td>\n",
       "      <td>Exp1</td>\n",
       "      <td>file:/Volumes/Seagate_RED/A_Heald_Lab/A_My_pap...</td>\n",
       "      <td>0</td>\n",
       "    </tr>\n",
       "    <tr>\n",
       "      <th>14</th>\n",
       "      <td>1</td>\n",
       "      <td>15</td>\n",
       "      <td>Exp1</td>\n",
       "      <td>file:/Volumes/Seagate_RED/A_Heald_Lab/A_My_pap...</td>\n",
       "      <td>0</td>\n",
       "    </tr>\n",
       "    <tr>\n",
       "      <th>15</th>\n",
       "      <td>1</td>\n",
       "      <td>16</td>\n",
       "      <td>Exp1</td>\n",
       "      <td>file:/Volumes/Seagate_RED/A_Heald_Lab/A_My_pap...</td>\n",
       "      <td>0</td>\n",
       "    </tr>\n",
       "    <tr>\n",
       "      <th>16</th>\n",
       "      <td>1</td>\n",
       "      <td>17</td>\n",
       "      <td>Exp1</td>\n",
       "      <td>file:/Volumes/Seagate_RED/A_Heald_Lab/A_My_pap...</td>\n",
       "      <td>0</td>\n",
       "    </tr>\n",
       "    <tr>\n",
       "      <th>17</th>\n",
       "      <td>1</td>\n",
       "      <td>18</td>\n",
       "      <td>Exp1</td>\n",
       "      <td>file:/Volumes/Seagate_RED/A_Heald_Lab/A_My_pap...</td>\n",
       "      <td>0</td>\n",
       "    </tr>\n",
       "    <tr>\n",
       "      <th>18</th>\n",
       "      <td>1</td>\n",
       "      <td>19</td>\n",
       "      <td>Exp1</td>\n",
       "      <td>file:/Volumes/Seagate_RED/A_Heald_Lab/A_My_pap...</td>\n",
       "      <td>0</td>\n",
       "    </tr>\n",
       "    <tr>\n",
       "      <th>19</th>\n",
       "      <td>1</td>\n",
       "      <td>20</td>\n",
       "      <td>Exp1</td>\n",
       "      <td>file:/Volumes/Seagate_RED/A_Heald_Lab/A_My_pap...</td>\n",
       "      <td>0</td>\n",
       "    </tr>\n",
       "    <tr>\n",
       "      <th>20</th>\n",
       "      <td>1</td>\n",
       "      <td>21</td>\n",
       "      <td>Exp1</td>\n",
       "      <td>file:/Volumes/Seagate_RED/A_Heald_Lab/A_My_pap...</td>\n",
       "      <td>0</td>\n",
       "    </tr>\n",
       "    <tr>\n",
       "      <th>21</th>\n",
       "      <td>1</td>\n",
       "      <td>22</td>\n",
       "      <td>Exp1</td>\n",
       "      <td>file:/Volumes/Seagate_RED/A_Heald_Lab/A_My_pap...</td>\n",
       "      <td>0</td>\n",
       "    </tr>\n",
       "    <tr>\n",
       "      <th>22</th>\n",
       "      <td>1</td>\n",
       "      <td>23</td>\n",
       "      <td>Exp1</td>\n",
       "      <td>file:/Volumes/Seagate_RED/A_Heald_Lab/A_My_pap...</td>\n",
       "      <td>0</td>\n",
       "    </tr>\n",
       "    <tr>\n",
       "      <th>23</th>\n",
       "      <td>1</td>\n",
       "      <td>24</td>\n",
       "      <td>Exp1</td>\n",
       "      <td>file:/Volumes/Seagate_RED/A_Heald_Lab/A_My_pap...</td>\n",
       "      <td>0</td>\n",
       "    </tr>\n",
       "    <tr>\n",
       "      <th>24</th>\n",
       "      <td>1</td>\n",
       "      <td>25</td>\n",
       "      <td>Exp1</td>\n",
       "      <td>file:/Volumes/Seagate_RED/A_Heald_Lab/A_My_pap...</td>\n",
       "      <td>0</td>\n",
       "    </tr>\n",
       "    <tr>\n",
       "      <th>25</th>\n",
       "      <td>1</td>\n",
       "      <td>26</td>\n",
       "      <td>Exp1</td>\n",
       "      <td>file:/Volumes/Seagate_RED/A_Heald_Lab/A_My_pap...</td>\n",
       "      <td>0</td>\n",
       "    </tr>\n",
       "    <tr>\n",
       "      <th>26</th>\n",
       "      <td>1</td>\n",
       "      <td>27</td>\n",
       "      <td>Exp1</td>\n",
       "      <td>file:/Volumes/Seagate_RED/A_Heald_Lab/A_My_pap...</td>\n",
       "      <td>0</td>\n",
       "    </tr>\n",
       "    <tr>\n",
       "      <th>27</th>\n",
       "      <td>1</td>\n",
       "      <td>28</td>\n",
       "      <td>Exp1</td>\n",
       "      <td>file:/Volumes/Seagate_RED/A_Heald_Lab/A_My_pap...</td>\n",
       "      <td>0</td>\n",
       "    </tr>\n",
       "    <tr>\n",
       "      <th>28</th>\n",
       "      <td>1</td>\n",
       "      <td>29</td>\n",
       "      <td>Exp1</td>\n",
       "      <td>file:/Volumes/Seagate_RED/A_Heald_Lab/A_My_pap...</td>\n",
       "      <td>0</td>\n",
       "    </tr>\n",
       "    <tr>\n",
       "      <th>29</th>\n",
       "      <td>1</td>\n",
       "      <td>30</td>\n",
       "      <td>Exp1</td>\n",
       "      <td>file:/Volumes/Seagate_RED/A_Heald_Lab/A_My_pap...</td>\n",
       "      <td>0</td>\n",
       "    </tr>\n",
       "  </tbody>\n",
       "</table>\n",
       "</div>"
      ],
      "text/plain": [
       "    ImageNumber  ObjectNumber Metadata_ExperimentID  \\\n",
       "0             1             1                  Exp1   \n",
       "1             1             2                  Exp1   \n",
       "2             1             3                  Exp1   \n",
       "3             1             4                  Exp1   \n",
       "4             1             5                  Exp1   \n",
       "5             1             6                  Exp1   \n",
       "6             1             7                  Exp1   \n",
       "7             1             8                  Exp1   \n",
       "8             1             9                  Exp1   \n",
       "9             1            10                  Exp1   \n",
       "10            1            11                  Exp1   \n",
       "11            1            12                  Exp1   \n",
       "12            1            13                  Exp1   \n",
       "13            1            14                  Exp1   \n",
       "14            1            15                  Exp1   \n",
       "15            1            16                  Exp1   \n",
       "16            1            17                  Exp1   \n",
       "17            1            18                  Exp1   \n",
       "18            1            19                  Exp1   \n",
       "19            1            20                  Exp1   \n",
       "20            1            21                  Exp1   \n",
       "21            1            22                  Exp1   \n",
       "22            1            23                  Exp1   \n",
       "23            1            24                  Exp1   \n",
       "24            1            25                  Exp1   \n",
       "25            1            26                  Exp1   \n",
       "26            1            27                  Exp1   \n",
       "27            1            28                  Exp1   \n",
       "28            1            29                  Exp1   \n",
       "29            1            30                  Exp1   \n",
       "\n",
       "                                Metadata_FileLocation  Metadata_Frame  \n",
       "0   file:/Volumes/Seagate_RED/A_Heald_Lab/A_My_pap...               0  \n",
       "1   file:/Volumes/Seagate_RED/A_Heald_Lab/A_My_pap...               0  \n",
       "2   file:/Volumes/Seagate_RED/A_Heald_Lab/A_My_pap...               0  \n",
       "3   file:/Volumes/Seagate_RED/A_Heald_Lab/A_My_pap...               0  \n",
       "4   file:/Volumes/Seagate_RED/A_Heald_Lab/A_My_pap...               0  \n",
       "5   file:/Volumes/Seagate_RED/A_Heald_Lab/A_My_pap...               0  \n",
       "6   file:/Volumes/Seagate_RED/A_Heald_Lab/A_My_pap...               0  \n",
       "7   file:/Volumes/Seagate_RED/A_Heald_Lab/A_My_pap...               0  \n",
       "8   file:/Volumes/Seagate_RED/A_Heald_Lab/A_My_pap...               0  \n",
       "9   file:/Volumes/Seagate_RED/A_Heald_Lab/A_My_pap...               0  \n",
       "10  file:/Volumes/Seagate_RED/A_Heald_Lab/A_My_pap...               0  \n",
       "11  file:/Volumes/Seagate_RED/A_Heald_Lab/A_My_pap...               0  \n",
       "12  file:/Volumes/Seagate_RED/A_Heald_Lab/A_My_pap...               0  \n",
       "13  file:/Volumes/Seagate_RED/A_Heald_Lab/A_My_pap...               0  \n",
       "14  file:/Volumes/Seagate_RED/A_Heald_Lab/A_My_pap...               0  \n",
       "15  file:/Volumes/Seagate_RED/A_Heald_Lab/A_My_pap...               0  \n",
       "16  file:/Volumes/Seagate_RED/A_Heald_Lab/A_My_pap...               0  \n",
       "17  file:/Volumes/Seagate_RED/A_Heald_Lab/A_My_pap...               0  \n",
       "18  file:/Volumes/Seagate_RED/A_Heald_Lab/A_My_pap...               0  \n",
       "19  file:/Volumes/Seagate_RED/A_Heald_Lab/A_My_pap...               0  \n",
       "20  file:/Volumes/Seagate_RED/A_Heald_Lab/A_My_pap...               0  \n",
       "21  file:/Volumes/Seagate_RED/A_Heald_Lab/A_My_pap...               0  \n",
       "22  file:/Volumes/Seagate_RED/A_Heald_Lab/A_My_pap...               0  \n",
       "23  file:/Volumes/Seagate_RED/A_Heald_Lab/A_My_pap...               0  \n",
       "24  file:/Volumes/Seagate_RED/A_Heald_Lab/A_My_pap...               0  \n",
       "25  file:/Volumes/Seagate_RED/A_Heald_Lab/A_My_pap...               0  \n",
       "26  file:/Volumes/Seagate_RED/A_Heald_Lab/A_My_pap...               0  \n",
       "27  file:/Volumes/Seagate_RED/A_Heald_Lab/A_My_pap...               0  \n",
       "28  file:/Volumes/Seagate_RED/A_Heald_Lab/A_My_pap...               0  \n",
       "29  file:/Volumes/Seagate_RED/A_Heald_Lab/A_My_pap...               0  "
      ]
     },
     "execution_count": 22,
     "metadata": {},
     "output_type": "execute_result"
    }
   ],
   "source": [
    "df_sp.iloc[0:30, 0:5]"
   ]
  },
  {
   "cell_type": "markdown",
   "metadata": {},
   "source": [
    "Below we define types of varaibles."
   ]
  },
  {
   "cell_type": "markdown",
   "metadata": {},
   "source": [
    "Accessories:   \n",
    "**Object locators** are defined by a suffix \\_X and \\_Y. \n",
    "Have in mind that the way the speckles are spatially distributed may have a significance too. Here, we'll ignore this aspect.    \n",
    "**Metadata** contain experimental details. They are, in fact, categorical explanatory (or confounding) variables. "
   ]
  },
  {
   "cell_type": "code",
   "execution_count": 23,
   "metadata": {
    "collapsed": false
   },
   "outputs": [],
   "source": [
    "def findLocatorsInDF(data_frame):\n",
    "    pattern = re.compile(r'.*_X.*|.*_Y.*')\n",
    "    list_of_locators = []\n",
    "    for column in data_frame.columns:\n",
    "        if  re.match(pattern,column) !=None:\n",
    "            list_of_locators.append(re.match(pattern,column).group())\n",
    "    return list_of_locators  "
   ]
  },
  {
   "cell_type": "code",
   "execution_count": 24,
   "metadata": {
    "collapsed": false
   },
   "outputs": [],
   "source": [
    "def findMetadataInDF(data_frame):\n",
    "    meta_data=[]\n",
    "    for col_name in data_frame.columns:\n",
    "        if re.match(r'.*(data).*', col_name) != None:\n",
    "            meta_data.append(re.match(r'.*(data).*', col_name).group(0))\n",
    "    \n",
    "    meta_data=list((df_n.columns[0:2])) + meta_data\n",
    "    meta_data.append('Number_Object_Number')\n",
    "    return list(meta_data)"
   ]
  },
  {
   "cell_type": "markdown",
   "metadata": {},
   "source": [
    "There is a redunadancy in the two columns below. The np.all() test shows it."
   ]
  },
  {
   "cell_type": "code",
   "execution_count": 25,
   "metadata": {
    "collapsed": false
   },
   "outputs": [
    {
     "name": "stdout",
     "output_type": "stream",
     "text": [
      "True\n",
      "True\n",
      "True\n"
     ]
    }
   ],
   "source": [
    "df_sp[['ObjectNumber', 'Number_Object_Number']].iloc[0:5,:]\n",
    "print np.all(df_sp.ObjectNumber == df_sp.Number_Object_Number)\n",
    "print np.all(df_n.ObjectNumber == df_n.Number_Object_Number)\n",
    "print np.all(df_sn.ObjectNumber == df_sn.Number_Object_Number)"
   ]
  },
  {
   "cell_type": "markdown",
   "metadata": {},
   "source": [
    "Speckles also contain 'Parent_ShrunkenNuclei' (metadata)."
   ]
  },
  {
   "cell_type": "code",
   "execution_count": 26,
   "metadata": {
    "collapsed": true
   },
   "outputs": [],
   "source": [
    "metadata_df_nuclei = findMetadataInDF(df_n)"
   ]
  },
  {
   "cell_type": "code",
   "execution_count": 27,
   "metadata": {
    "collapsed": false
   },
   "outputs": [
    {
     "data": {
      "text/plain": [
       "(['ImageNumber',\n",
       "  'ObjectNumber',\n",
       "  'Metadata_ExperimentID',\n",
       "  'Metadata_FileLocation',\n",
       "  'Metadata_Frame',\n",
       "  'Metadata_ImageID',\n",
       "  'Metadata_Series',\n",
       "  'Metadata_Stain',\n",
       "  'Metadata_Treatment',\n",
       "  'Number_Object_Number'],\n",
       " 10,\n",
       " ['AreaShape_Center_X',\n",
       "  'AreaShape_Center_Y',\n",
       "  'Location_CenterMassIntensity_X_ImageAfterMathLamina',\n",
       "  'Location_CenterMassIntensity_X_RawInput',\n",
       "  'Location_CenterMassIntensity_Y_ImageAfterMathLamina',\n",
       "  'Location_CenterMassIntensity_Y_RawInput',\n",
       "  'Location_Center_X',\n",
       "  'Location_Center_Y',\n",
       "  'Location_MaxIntensity_X_ImageAfterMathLamina',\n",
       "  'Location_MaxIntensity_X_RawInput',\n",
       "  'Location_MaxIntensity_Y_ImageAfterMathLamina',\n",
       "  'Location_MaxIntensity_Y_RawInput'],\n",
       " 12,\n",
       " ['ImageNumber',\n",
       "  'ObjectNumber',\n",
       "  'Metadata_ExperimentID',\n",
       "  'Metadata_FileLocation',\n",
       "  'Metadata_Frame',\n",
       "  'Metadata_ImageID',\n",
       "  'Metadata_Series',\n",
       "  'Metadata_Stain',\n",
       "  'Metadata_Treatment',\n",
       "  'Number_Object_Number'],\n",
       " 10,\n",
       " ['Location_CenterMassIntensity_X_ImageAfterMathLamina',\n",
       "  'Location_CenterMassIntensity_X_RawInput',\n",
       "  'Location_CenterMassIntensity_Y_ImageAfterMathLamina',\n",
       "  'Location_CenterMassIntensity_Y_RawInput',\n",
       "  'Location_Center_X',\n",
       "  'Location_Center_Y',\n",
       "  'Location_MaxIntensity_X_ImageAfterMathLamina',\n",
       "  'Location_MaxIntensity_X_RawInput',\n",
       "  'Location_MaxIntensity_Y_ImageAfterMathLamina',\n",
       "  'Location_MaxIntensity_Y_RawInput',\n",
       "  'Mean_Speckles_AreaShape_Center_X',\n",
       "  'Mean_Speckles_AreaShape_Center_Y',\n",
       "  'Mean_Speckles_Location_CenterMassIntensity_X_RawInput',\n",
       "  'Mean_Speckles_Location_CenterMassIntensity_Y_RawInput',\n",
       "  'Mean_Speckles_Location_Center_X',\n",
       "  'Mean_Speckles_Location_Center_Y',\n",
       "  'Mean_Speckles_Location_MaxIntensity_X_RawInput',\n",
       "  'Mean_Speckles_Location_MaxIntensity_Y_RawInput'],\n",
       " 18,\n",
       " ['ImageNumber',\n",
       "  'ObjectNumber',\n",
       "  'Metadata_ExperimentID',\n",
       "  'Metadata_FileLocation',\n",
       "  'Metadata_Frame',\n",
       "  'Metadata_ImageID',\n",
       "  'Metadata_Series',\n",
       "  'Metadata_Stain',\n",
       "  'Metadata_Treatment',\n",
       "  'Number_Object_Number'],\n",
       " 11,\n",
       " ['AreaShape_Center_X',\n",
       "  'AreaShape_Center_Y',\n",
       "  'Location_CenterMassIntensity_X_RawInput',\n",
       "  'Location_CenterMassIntensity_Y_RawInput',\n",
       "  'Location_Center_X',\n",
       "  'Location_Center_Y',\n",
       "  'Location_MaxIntensity_X_RawInput',\n",
       "  'Location_MaxIntensity_Y_RawInput'],\n",
       " 8)"
      ]
     },
     "execution_count": 27,
     "metadata": {},
     "output_type": "execute_result"
    }
   ],
   "source": [
    "findMetadataInDF(df_n), \\\n",
    "len(findMetadataInDF(df_n)), \\\n",
    "findLocatorsInDF(df_n), \\\n",
    "len(findLocatorsInDF(df_n)),\\\n",
    "findMetadataInDF(df_sn), \\\n",
    "len(findMetadataInDF(df_sn)), \\\n",
    "findLocatorsInDF(df_sn), \\\n",
    "len(findLocatorsInDF(df_sn)), \\\n",
    "findMetadataInDF(df_sp), \\\n",
    "len(findMetadataInDF(df_sp))+1, \\\n",
    "findLocatorsInDF(df_sp), \\\n",
    "len(findLocatorsInDF(df_sp))"
   ]
  },
  {
   "cell_type": "code",
   "execution_count": 28,
   "metadata": {
    "collapsed": false
   },
   "outputs": [
    {
     "name": "stdout",
     "output_type": "stream",
     "text": [
      "Metadata_ExperimentID object\n",
      "Metadata_FileLocation object\n",
      "Metadata_Stain object\n",
      "Metadata_Treatment object\n"
     ]
    }
   ],
   "source": [
    "for col in df_n.columns:\n",
    "    if df_n[str(col)].dtype == 'object':\n",
    "        print col, df_n[str(col)].dtype\n",
    "#df_n['ImageNumber'].dtype"
   ]
  },
  {
   "cell_type": "markdown",
   "metadata": {},
   "source": [
    "Removing the location and metadata to create the X matrix."
   ]
  },
  {
   "cell_type": "code",
   "execution_count": 29,
   "metadata": {
    "collapsed": false
   },
   "outputs": [
    {
     "name": "stdout",
     "output_type": "stream",
     "text": [
      "133\n",
      "133\n",
      "149\n",
      "149\n",
      "63\n",
      "63\n"
     ]
    }
   ],
   "source": [
    "print df_n.columns.difference(findMetadataInDF(df_n)).difference(findLocatorsInDF(df_n)).__len__()\n",
    "print 155-10-12\n",
    "print df_sn.columns.difference(findMetadataInDF(df_sn)).difference(findLocatorsInDF(df_sn)).__len__()\n",
    "print 177-10-18\n",
    "print df_sp.columns.difference(findMetadataInDF(df_sp)).difference(findLocatorsInDF(df_sp)).difference(['Parent_ShrunkenNuclei']).__len__()\n",
    "print 82-11-8"
   ]
  },
  {
   "cell_type": "code",
   "execution_count": 30,
   "metadata": {
    "collapsed": false
   },
   "outputs": [],
   "source": [
    "col_n=df_n.columns.difference(findMetadataInDF(df_n)).difference(findLocatorsInDF(df_n))\n",
    "df_n_num = df_n[col_n]\n",
    "col_sn=df_sn.columns.difference(findMetadataInDF(df_sn)).difference(findLocatorsInDF(df_sn))\n",
    "df_sn_num = df_sn[col_sn]\n",
    "col_sp=df_sp.columns.difference(findMetadataInDF(df_sp)).difference(findLocatorsInDF(df_sp)).difference(['Parent_ShrunkenNuclei'])\n",
    "df_sp_num = df_sp[col_sp]"
   ]
  },
  {
   "cell_type": "code",
   "execution_count": 31,
   "metadata": {
    "collapsed": false
   },
   "outputs": [
    {
     "name": "stdout",
     "output_type": "stream",
     "text": [
      "133\n",
      "149\n",
      "63\n"
     ]
    }
   ],
   "source": [
    "print [df_n_num[col].dtype for col in df_n_num.columns if df_n_num[col].dtype != 'object'].__len__()\n",
    "print [df_sn_num[col].dtype for col in df_sn_num.columns if df_sn_num[col].dtype != 'object'].__len__()\n",
    "print [df_sp_num[col].dtype for col in df_sp_num.columns if df_sp_num[col].dtype != 'object'].__len__()"
   ]
  },
  {
   "cell_type": "markdown",
   "metadata": {},
   "source": [
    "Push data to R for transformation (see: section IV)."
   ]
  },
  {
   "cell_type": "code",
   "execution_count": 32,
   "metadata": {
    "collapsed": true
   },
   "outputs": [],
   "source": [
    "%R -i df_n_num\n",
    "%R -i df_sn_num\n",
    "%R -i df_sp_num"
   ]
  },
  {
   "cell_type": "markdown",
   "metadata": {},
   "source": [
    "Categories of variables:"
   ]
  },
  {
   "cell_type": "code",
   "execution_count": 33,
   "metadata": {
    "collapsed": false
   },
   "outputs": [
    {
     "data": {
      "text/plain": [
       "155"
      ]
     },
     "execution_count": 33,
     "metadata": {},
     "output_type": "execute_result"
    }
   ],
   "source": [
    "df_n.columns.__len__()"
   ]
  },
  {
   "cell_type": "markdown",
   "metadata": {},
   "source": [
    "There are 155 variables."
   ]
  },
  {
   "cell_type": "code",
   "execution_count": 34,
   "metadata": {
    "collapsed": false
   },
   "outputs": [
    {
     "data": {
      "text/plain": [
       "array(['R3-4si', 'control'], dtype=object)"
      ]
     },
     "execution_count": 34,
     "metadata": {},
     "output_type": "execute_result"
    }
   ],
   "source": [
    "df_n.Metadata_Treatment.unique()"
   ]
  },
  {
   "cell_type": "code",
   "execution_count": 35,
   "metadata": {
    "collapsed": false
   },
   "outputs": [
    {
     "data": {
      "text/html": [
       "<div style=\"max-height:1000px;max-width:1500px;overflow:auto;\">\n",
       "<table border=\"1\" class=\"dataframe\">\n",
       "  <thead>\n",
       "    <tr style=\"text-align: right;\">\n",
       "      <th></th>\n",
       "      <th>ImageNumber</th>\n",
       "      <th>ObjectNumber</th>\n",
       "      <th>Metadata_ExperimentID</th>\n",
       "      <th>Metadata_FileLocation</th>\n",
       "      <th>Metadata_Frame</th>\n",
       "      <th>Metadata_ImageID</th>\n",
       "      <th>Metadata_Series</th>\n",
       "      <th>Metadata_Stain</th>\n",
       "      <th>AreaShape_Area</th>\n",
       "      <th>AreaShape_Center_X</th>\n",
       "      <th>...</th>\n",
       "      <th>Texture_SumEntropy_RawInput_5_0</th>\n",
       "      <th>Texture_SumEntropy_RawInput_5_90</th>\n",
       "      <th>Texture_SumVariance_RawInput_10_0</th>\n",
       "      <th>Texture_SumVariance_RawInput_10_90</th>\n",
       "      <th>Texture_SumVariance_RawInput_5_0</th>\n",
       "      <th>Texture_SumVariance_RawInput_5_90</th>\n",
       "      <th>Texture_Variance_RawInput_10_0</th>\n",
       "      <th>Texture_Variance_RawInput_10_90</th>\n",
       "      <th>Texture_Variance_RawInput_5_0</th>\n",
       "      <th>Texture_Variance_RawInput_5_90</th>\n",
       "    </tr>\n",
       "    <tr>\n",
       "      <th>Metadata_Treatment</th>\n",
       "      <th></th>\n",
       "      <th></th>\n",
       "      <th></th>\n",
       "      <th></th>\n",
       "      <th></th>\n",
       "      <th></th>\n",
       "      <th></th>\n",
       "      <th></th>\n",
       "      <th></th>\n",
       "      <th></th>\n",
       "      <th></th>\n",
       "      <th></th>\n",
       "      <th></th>\n",
       "      <th></th>\n",
       "      <th></th>\n",
       "      <th></th>\n",
       "      <th></th>\n",
       "      <th></th>\n",
       "      <th></th>\n",
       "      <th></th>\n",
       "      <th></th>\n",
       "    </tr>\n",
       "  </thead>\n",
       "  <tbody>\n",
       "    <tr>\n",
       "      <th>R3-4si</th>\n",
       "      <td>1595</td>\n",
       "      <td>1595</td>\n",
       "      <td>1595</td>\n",
       "      <td>1595</td>\n",
       "      <td>1595</td>\n",
       "      <td>1595</td>\n",
       "      <td>1595</td>\n",
       "      <td>1595</td>\n",
       "      <td>1595</td>\n",
       "      <td>1595</td>\n",
       "      <td>...</td>\n",
       "      <td>1595</td>\n",
       "      <td>1595</td>\n",
       "      <td>1595</td>\n",
       "      <td>1595</td>\n",
       "      <td>1595</td>\n",
       "      <td>1595</td>\n",
       "      <td>1595</td>\n",
       "      <td>1595</td>\n",
       "      <td>1595</td>\n",
       "      <td>1595</td>\n",
       "    </tr>\n",
       "    <tr>\n",
       "      <th>control</th>\n",
       "      <td>1954</td>\n",
       "      <td>1954</td>\n",
       "      <td>1954</td>\n",
       "      <td>1954</td>\n",
       "      <td>1954</td>\n",
       "      <td>1954</td>\n",
       "      <td>1954</td>\n",
       "      <td>1954</td>\n",
       "      <td>1954</td>\n",
       "      <td>1954</td>\n",
       "      <td>...</td>\n",
       "      <td>1954</td>\n",
       "      <td>1954</td>\n",
       "      <td>1954</td>\n",
       "      <td>1954</td>\n",
       "      <td>1954</td>\n",
       "      <td>1954</td>\n",
       "      <td>1954</td>\n",
       "      <td>1954</td>\n",
       "      <td>1954</td>\n",
       "      <td>1954</td>\n",
       "    </tr>\n",
       "  </tbody>\n",
       "</table>\n",
       "<p>2 rows × 154 columns</p>\n",
       "</div>"
      ],
      "text/plain": [
       "                    ImageNumber  ObjectNumber  Metadata_ExperimentID  \\\n",
       "Metadata_Treatment                                                     \n",
       "R3-4si                     1595          1595                   1595   \n",
       "control                    1954          1954                   1954   \n",
       "\n",
       "                    Metadata_FileLocation  Metadata_Frame  Metadata_ImageID  \\\n",
       "Metadata_Treatment                                                            \n",
       "R3-4si                               1595            1595              1595   \n",
       "control                              1954            1954              1954   \n",
       "\n",
       "                    Metadata_Series  Metadata_Stain  AreaShape_Area  \\\n",
       "Metadata_Treatment                                                    \n",
       "R3-4si                         1595            1595            1595   \n",
       "control                        1954            1954            1954   \n",
       "\n",
       "                    AreaShape_Center_X               ...                \\\n",
       "Metadata_Treatment                                   ...                 \n",
       "R3-4si                            1595               ...                 \n",
       "control                           1954               ...                 \n",
       "\n",
       "                    Texture_SumEntropy_RawInput_5_0  \\\n",
       "Metadata_Treatment                                    \n",
       "R3-4si                                         1595   \n",
       "control                                        1954   \n",
       "\n",
       "                    Texture_SumEntropy_RawInput_5_90  \\\n",
       "Metadata_Treatment                                     \n",
       "R3-4si                                          1595   \n",
       "control                                         1954   \n",
       "\n",
       "                    Texture_SumVariance_RawInput_10_0  \\\n",
       "Metadata_Treatment                                      \n",
       "R3-4si                                           1595   \n",
       "control                                          1954   \n",
       "\n",
       "                    Texture_SumVariance_RawInput_10_90  \\\n",
       "Metadata_Treatment                                       \n",
       "R3-4si                                            1595   \n",
       "control                                           1954   \n",
       "\n",
       "                    Texture_SumVariance_RawInput_5_0  \\\n",
       "Metadata_Treatment                                     \n",
       "R3-4si                                          1595   \n",
       "control                                         1954   \n",
       "\n",
       "                    Texture_SumVariance_RawInput_5_90  \\\n",
       "Metadata_Treatment                                      \n",
       "R3-4si                                           1595   \n",
       "control                                          1954   \n",
       "\n",
       "                    Texture_Variance_RawInput_10_0  \\\n",
       "Metadata_Treatment                                   \n",
       "R3-4si                                        1595   \n",
       "control                                       1954   \n",
       "\n",
       "                    Texture_Variance_RawInput_10_90  \\\n",
       "Metadata_Treatment                                    \n",
       "R3-4si                                         1595   \n",
       "control                                        1954   \n",
       "\n",
       "                    Texture_Variance_RawInput_5_0  \\\n",
       "Metadata_Treatment                                  \n",
       "R3-4si                                       1595   \n",
       "control                                      1954   \n",
       "\n",
       "                    Texture_Variance_RawInput_5_90  \n",
       "Metadata_Treatment                                  \n",
       "R3-4si                                        1595  \n",
       "control                                       1954  \n",
       "\n",
       "[2 rows x 154 columns]"
      ]
     },
     "execution_count": 35,
     "metadata": {},
     "output_type": "execute_result"
    }
   ],
   "source": [
    "df_n.groupby('Metadata_Treatment').count()"
   ]
  },
  {
   "cell_type": "code",
   "execution_count": 36,
   "metadata": {
    "collapsed": false
   },
   "outputs": [
    {
     "data": {
      "text/plain": [
       "['ImageNumber',\n",
       " 'ObjectNumber',\n",
       " 'Metadata_ExperimentID',\n",
       " 'Metadata_FileLocation',\n",
       " 'Metadata_Frame',\n",
       " 'Metadata_ImageID',\n",
       " 'Metadata_Series',\n",
       " 'Metadata_Stain',\n",
       " 'Metadata_Treatment',\n",
       " 'AreaShape_Area',\n",
       " 'AreaShape_Center_X',\n",
       " 'AreaShape_Center_Y',\n",
       " 'AreaShape_Compactness',\n",
       " 'AreaShape_Eccentricity',\n",
       " 'AreaShape_EulerNumber',\n",
       " 'AreaShape_Extent',\n",
       " 'AreaShape_FormFactor',\n",
       " 'AreaShape_MajorAxisLength',\n",
       " 'AreaShape_MaxFeretDiameter',\n",
       " 'AreaShape_MaximumRadius',\n",
       " 'AreaShape_MeanRadius',\n",
       " 'AreaShape_MedianRadius',\n",
       " 'AreaShape_MinFeretDiameter',\n",
       " 'AreaShape_MinorAxisLength',\n",
       " 'AreaShape_Orientation',\n",
       " 'AreaShape_Perimeter',\n",
       " 'AreaShape_Solidity',\n",
       " 'AreaShape_Zernike_0_0',\n",
       " 'AreaShape_Zernike_1_1',\n",
       " 'AreaShape_Zernike_2_0',\n",
       " 'AreaShape_Zernike_2_2',\n",
       " 'AreaShape_Zernike_3_1',\n",
       " 'AreaShape_Zernike_3_3',\n",
       " 'AreaShape_Zernike_4_0',\n",
       " 'AreaShape_Zernike_4_2',\n",
       " 'AreaShape_Zernike_4_4',\n",
       " 'AreaShape_Zernike_5_1',\n",
       " 'AreaShape_Zernike_5_3',\n",
       " 'AreaShape_Zernike_5_5',\n",
       " 'AreaShape_Zernike_6_0',\n",
       " 'AreaShape_Zernike_6_2',\n",
       " 'AreaShape_Zernike_6_4',\n",
       " 'AreaShape_Zernike_6_6',\n",
       " 'AreaShape_Zernike_7_1',\n",
       " 'AreaShape_Zernike_7_3',\n",
       " 'AreaShape_Zernike_7_5',\n",
       " 'AreaShape_Zernike_7_7',\n",
       " 'AreaShape_Zernike_8_0',\n",
       " 'AreaShape_Zernike_8_2',\n",
       " 'AreaShape_Zernike_8_4',\n",
       " 'AreaShape_Zernike_8_6',\n",
       " 'AreaShape_Zernike_8_8',\n",
       " 'AreaShape_Zernike_9_1',\n",
       " 'AreaShape_Zernike_9_3',\n",
       " 'AreaShape_Zernike_9_5',\n",
       " 'AreaShape_Zernike_9_7',\n",
       " 'AreaShape_Zernike_9_9',\n",
       " 'Intensity_IntegratedIntensityEdge_ImageAfterMathLamina',\n",
       " 'Intensity_IntegratedIntensityEdge_RawInput',\n",
       " 'Intensity_IntegratedIntensity_ImageAfterMathLamina',\n",
       " 'Intensity_IntegratedIntensity_RawInput',\n",
       " 'Intensity_LowerQuartileIntensity_ImageAfterMathLamina',\n",
       " 'Intensity_LowerQuartileIntensity_RawInput',\n",
       " 'Intensity_MADIntensity_ImageAfterMathLamina',\n",
       " 'Intensity_MADIntensity_RawInput',\n",
       " 'Intensity_MassDisplacement_ImageAfterMathLamina',\n",
       " 'Intensity_MassDisplacement_RawInput',\n",
       " 'Intensity_MaxIntensityEdge_ImageAfterMathLamina',\n",
       " 'Intensity_MaxIntensityEdge_RawInput',\n",
       " 'Intensity_MaxIntensity_ImageAfterMathLamina',\n",
       " 'Intensity_MaxIntensity_RawInput',\n",
       " 'Intensity_MeanIntensityEdge_ImageAfterMathLamina',\n",
       " 'Intensity_MeanIntensityEdge_RawInput',\n",
       " 'Intensity_MeanIntensity_ImageAfterMathLamina',\n",
       " 'Intensity_MeanIntensity_RawInput',\n",
       " 'Intensity_MedianIntensity_ImageAfterMathLamina',\n",
       " 'Intensity_MedianIntensity_RawInput',\n",
       " 'Intensity_MinIntensityEdge_ImageAfterMathLamina',\n",
       " 'Intensity_MinIntensityEdge_RawInput',\n",
       " 'Intensity_MinIntensity_ImageAfterMathLamina',\n",
       " 'Intensity_MinIntensity_RawInput',\n",
       " 'Intensity_StdIntensityEdge_ImageAfterMathLamina',\n",
       " 'Intensity_StdIntensityEdge_RawInput',\n",
       " 'Intensity_StdIntensity_ImageAfterMathLamina',\n",
       " 'Intensity_StdIntensity_RawInput',\n",
       " 'Intensity_UpperQuartileIntensity_ImageAfterMathLamina',\n",
       " 'Intensity_UpperQuartileIntensity_RawInput',\n",
       " 'Location_CenterMassIntensity_X_ImageAfterMathLamina',\n",
       " 'Location_CenterMassIntensity_X_RawInput',\n",
       " 'Location_CenterMassIntensity_Y_ImageAfterMathLamina',\n",
       " 'Location_CenterMassIntensity_Y_RawInput',\n",
       " 'Location_Center_X',\n",
       " 'Location_Center_Y',\n",
       " 'Location_MaxIntensity_X_ImageAfterMathLamina',\n",
       " 'Location_MaxIntensity_X_RawInput',\n",
       " 'Location_MaxIntensity_Y_ImageAfterMathLamina',\n",
       " 'Location_MaxIntensity_Y_RawInput',\n",
       " 'Math_AreaSquareMicron',\n",
       " 'Math_AspectRatioNuclei',\n",
       " 'Math_MaxFeretMicron',\n",
       " 'Math_MinFeretMicron',\n",
       " 'Math_TotalSpeckleToNucleusArea',\n",
       " 'Number_Object_Number',\n",
       " 'Texture_AngularSecondMoment_RawInput_10_0',\n",
       " 'Texture_AngularSecondMoment_RawInput_10_90',\n",
       " 'Texture_AngularSecondMoment_RawInput_5_0',\n",
       " 'Texture_AngularSecondMoment_RawInput_5_90',\n",
       " 'Texture_Contrast_RawInput_10_0',\n",
       " 'Texture_Contrast_RawInput_10_90',\n",
       " 'Texture_Contrast_RawInput_5_0',\n",
       " 'Texture_Contrast_RawInput_5_90',\n",
       " 'Texture_Correlation_RawInput_10_0',\n",
       " 'Texture_Correlation_RawInput_10_90',\n",
       " 'Texture_Correlation_RawInput_5_0',\n",
       " 'Texture_Correlation_RawInput_5_90',\n",
       " 'Texture_DifferenceEntropy_RawInput_10_0',\n",
       " 'Texture_DifferenceEntropy_RawInput_10_90',\n",
       " 'Texture_DifferenceEntropy_RawInput_5_0',\n",
       " 'Texture_DifferenceEntropy_RawInput_5_90',\n",
       " 'Texture_DifferenceVariance_RawInput_10_0',\n",
       " 'Texture_DifferenceVariance_RawInput_10_90',\n",
       " 'Texture_DifferenceVariance_RawInput_5_0',\n",
       " 'Texture_DifferenceVariance_RawInput_5_90',\n",
       " 'Texture_Entropy_RawInput_10_0',\n",
       " 'Texture_Entropy_RawInput_10_90',\n",
       " 'Texture_Entropy_RawInput_5_0',\n",
       " 'Texture_Entropy_RawInput_5_90',\n",
       " 'Texture_InfoMeas1_RawInput_10_0',\n",
       " 'Texture_InfoMeas1_RawInput_10_90',\n",
       " 'Texture_InfoMeas1_RawInput_5_0',\n",
       " 'Texture_InfoMeas1_RawInput_5_90',\n",
       " 'Texture_InfoMeas2_RawInput_10_0',\n",
       " 'Texture_InfoMeas2_RawInput_10_90',\n",
       " 'Texture_InfoMeas2_RawInput_5_0',\n",
       " 'Texture_InfoMeas2_RawInput_5_90',\n",
       " 'Texture_InverseDifferenceMoment_RawInput_10_0',\n",
       " 'Texture_InverseDifferenceMoment_RawInput_10_90',\n",
       " 'Texture_InverseDifferenceMoment_RawInput_5_0',\n",
       " 'Texture_InverseDifferenceMoment_RawInput_5_90',\n",
       " 'Texture_SumAverage_RawInput_10_0',\n",
       " 'Texture_SumAverage_RawInput_10_90',\n",
       " 'Texture_SumAverage_RawInput_5_0',\n",
       " 'Texture_SumAverage_RawInput_5_90',\n",
       " 'Texture_SumEntropy_RawInput_10_0',\n",
       " 'Texture_SumEntropy_RawInput_10_90',\n",
       " 'Texture_SumEntropy_RawInput_5_0',\n",
       " 'Texture_SumEntropy_RawInput_5_90',\n",
       " 'Texture_SumVariance_RawInput_10_0',\n",
       " 'Texture_SumVariance_RawInput_10_90',\n",
       " 'Texture_SumVariance_RawInput_5_0',\n",
       " 'Texture_SumVariance_RawInput_5_90',\n",
       " 'Texture_Variance_RawInput_10_0',\n",
       " 'Texture_Variance_RawInput_10_90',\n",
       " 'Texture_Variance_RawInput_5_0',\n",
       " 'Texture_Variance_RawInput_5_90']"
      ]
     },
     "execution_count": 36,
     "metadata": {},
     "output_type": "execute_result"
    }
   ],
   "source": [
    "df_n.columns.tolist()"
   ]
  },
  {
   "cell_type": "code",
   "execution_count": 37,
   "metadata": {
    "collapsed": false,
    "scrolled": true
   },
   "outputs": [
    {
     "data": {
      "text/plain": [
       "Intensity_MassDisplacement_ImageAfterMathLamina             3549\n",
       "Location_CenterMassIntensity_X_ImageAfterMathLamina         3549\n",
       "Location_CenterMassIntensity_Y_ImageAfterMathLamina         3549\n",
       "Math_FractionOfSignalInSpecklesInterior                      281\n",
       "Math_TotalIntegratedSpeckleIntensity                         281\n",
       "Math_TotalSpeckleAreaEstimateMicron                          281\n",
       "Math_TotalSpeckleToNucleusArea                               281\n",
       "Mean_Speckles_AreaShape_Area                                 281\n",
       "Mean_Speckles_AreaShape_Center_X                             281\n",
       "Mean_Speckles_AreaShape_Center_Y                             281\n",
       "Mean_Speckles_AreaShape_Compactness                          281\n",
       "Mean_Speckles_AreaShape_Eccentricity                         281\n",
       "Mean_Speckles_AreaShape_EulerNumber                          281\n",
       "Mean_Speckles_AreaShape_Extent                               281\n",
       "Mean_Speckles_AreaShape_FormFactor                           281\n",
       "Mean_Speckles_AreaShape_MajorAxisLength                      281\n",
       "Mean_Speckles_AreaShape_MaxFeretDiameter                     281\n",
       "Mean_Speckles_AreaShape_MaximumRadius                        281\n",
       "Mean_Speckles_AreaShape_MeanRadius                           281\n",
       "Mean_Speckles_AreaShape_MedianRadius                         281\n",
       "Mean_Speckles_AreaShape_MinFeretDiameter                     281\n",
       "Mean_Speckles_AreaShape_MinorAxisLength                      281\n",
       "Mean_Speckles_AreaShape_Orientation                          281\n",
       "Mean_Speckles_AreaShape_Perimeter                            281\n",
       "Mean_Speckles_AreaShape_Solidity                             281\n",
       "Mean_Speckles_AreaShape_Zernike_0_0                          281\n",
       "Mean_Speckles_AreaShape_Zernike_1_1                          281\n",
       "Mean_Speckles_AreaShape_Zernike_2_0                          281\n",
       "Mean_Speckles_AreaShape_Zernike_2_2                          281\n",
       "Mean_Speckles_AreaShape_Zernike_3_1                          281\n",
       "                                                            ... \n",
       "Mean_Speckles_AreaShape_Zernike_8_4                          281\n",
       "Mean_Speckles_AreaShape_Zernike_8_6                          281\n",
       "Mean_Speckles_AreaShape_Zernike_8_8                          281\n",
       "Mean_Speckles_AreaShape_Zernike_9_1                          281\n",
       "Mean_Speckles_AreaShape_Zernike_9_3                          281\n",
       "Mean_Speckles_AreaShape_Zernike_9_5                          281\n",
       "Mean_Speckles_AreaShape_Zernike_9_7                          281\n",
       "Mean_Speckles_AreaShape_Zernike_9_9                          281\n",
       "Mean_Speckles_Intensity_IntegratedIntensityEdge_RawInput     281\n",
       "Mean_Speckles_Intensity_IntegratedIntensity_RawInput         281\n",
       "Mean_Speckles_Intensity_LowerQuartileIntensity_RawInput      281\n",
       "Mean_Speckles_Intensity_MADIntensity_RawInput                281\n",
       "Mean_Speckles_Intensity_MassDisplacement_RawInput            281\n",
       "Mean_Speckles_Intensity_MaxIntensityEdge_RawInput            281\n",
       "Mean_Speckles_Intensity_MaxIntensity_RawInput                281\n",
       "Mean_Speckles_Intensity_MeanIntensityEdge_RawInput           281\n",
       "Mean_Speckles_Intensity_MeanIntensity_RawInput               281\n",
       "Mean_Speckles_Intensity_MedianIntensity_RawInput             281\n",
       "Mean_Speckles_Intensity_MinIntensityEdge_RawInput            281\n",
       "Mean_Speckles_Intensity_MinIntensity_RawInput                281\n",
       "Mean_Speckles_Intensity_StdIntensityEdge_RawInput            281\n",
       "Mean_Speckles_Intensity_StdIntensity_RawInput                281\n",
       "Mean_Speckles_Intensity_UpperQuartileIntensity_RawInput      281\n",
       "Mean_Speckles_Location_CenterMassIntensity_X_RawInput        281\n",
       "Mean_Speckles_Location_CenterMassIntensity_Y_RawInput        281\n",
       "Mean_Speckles_Location_Center_X                              281\n",
       "Mean_Speckles_Location_Center_Y                              281\n",
       "Mean_Speckles_Location_MaxIntensity_X_RawInput               281\n",
       "Mean_Speckles_Location_MaxIntensity_Y_RawInput               281\n",
       "Mean_Speckles_Number_Object_Number                           281\n",
       "dtype: int64"
      ]
     },
     "execution_count": 37,
     "metadata": {},
     "output_type": "execute_result"
    }
   ],
   "source": [
    "np.sum(df_n.isnull())[np.sum(df_n.isnull()) != 0]\n",
    "np.sum(df_sn.isnull())[np.sum(df_sn.isnull()) != 0]"
   ]
  },
  {
   "cell_type": "markdown",
   "metadata": {},
   "source": [
    "Seems there was a 0 divisor in these 1035 rows (no nucleus area?)."
   ]
  },
  {
   "cell_type": "code",
   "execution_count": 38,
   "metadata": {
    "collapsed": false,
    "scrolled": true
   },
   "outputs": [
    {
     "data": {
      "text/plain": [
       "0       0.018561\n",
       "1       0.018257\n",
       "2       0.013448\n",
       "3       0.022965\n",
       "4       0.021034\n",
       "5       0.017138\n",
       "6       0.019976\n",
       "7       0.014998\n",
       "8       0.022000\n",
       "9       0.020150\n",
       "10      0.026921\n",
       "11      0.017874\n",
       "12      0.006525\n",
       "13      0.012746\n",
       "14      0.016144\n",
       "15      0.025675\n",
       "16      0.019965\n",
       "17      0.017408\n",
       "18      0.006703\n",
       "19      0.021248\n",
       "20      0.017413\n",
       "21      0.016249\n",
       "22      0.019333\n",
       "23      0.018603\n",
       "24      0.034086\n",
       "25      0.015070\n",
       "26      0.012566\n",
       "27      0.012379\n",
       "28      0.025196\n",
       "29      0.009444\n",
       "          ...   \n",
       "3519    0.031935\n",
       "3520    0.003054\n",
       "3521    0.021848\n",
       "3522    0.008649\n",
       "3523    0.009969\n",
       "3524    0.008262\n",
       "3525    0.011755\n",
       "3526    0.007743\n",
       "3527    0.006703\n",
       "3528    0.006704\n",
       "3529    0.010338\n",
       "3530    0.003539\n",
       "3531    0.011124\n",
       "3532    0.002869\n",
       "3533    0.005148\n",
       "3534    0.009580\n",
       "3535    0.002329\n",
       "3536    0.015191\n",
       "3537    0.020573\n",
       "3538    0.020377\n",
       "3539    0.010513\n",
       "3540    0.010099\n",
       "3541    0.010435\n",
       "3542    0.013961\n",
       "3543    0.012416\n",
       "3544    0.007945\n",
       "3545    0.002994\n",
       "3546         NaN\n",
       "3547    0.002436\n",
       "3548    0.022523\n",
       "Name: Math_TotalSpeckleToNucleusArea, dtype: float64"
      ]
     },
     "execution_count": 38,
     "metadata": {},
     "output_type": "execute_result"
    }
   ],
   "source": [
    "df_n.Math_TotalSpeckleToNucleusArea"
   ]
  },
  {
   "cell_type": "markdown",
   "metadata": {},
   "source": [
    "#III. Exploratory data analysis   "
   ]
  },
  {
   "cell_type": "markdown",
   "metadata": {},
   "source": [
    "There were two variables intentionally created to capture the phenotype. Below we'll have a quick look at them."
   ]
  },
  {
   "cell_type": "markdown",
   "metadata": {},
   "source": [
    "###Speckles"
   ]
  },
  {
   "cell_type": "markdown",
   "metadata": {},
   "source": [
    "In its most obvious form, this is count data. As a secondary aspect, it can have shape, intensity, spatial distribution.   \n",
    "There are two data sets that can have aggreagate information about speckles: segmented nuclei and shrunken nuclei. "
   ]
  },
  {
   "cell_type": "code",
   "execution_count": 39,
   "metadata": {
    "collapsed": true
   },
   "outputs": [],
   "source": [
    "pattern = re.compile('.*speckle.*', re.IGNORECASE)"
   ]
  },
  {
   "cell_type": "code",
   "execution_count": 40,
   "metadata": {
    "collapsed": false
   },
   "outputs": [
    {
     "data": {
      "text/plain": [
       "['Math_TotalSpeckleToNucleusArea']"
      ]
     },
     "execution_count": 40,
     "metadata": {},
     "output_type": "execute_result"
    }
   ],
   "source": [
    "[re.match(pattern, colName).group() for colName in df_n.columns.tolist() if re.match(pattern, colName) != None]"
   ]
  },
  {
   "cell_type": "code",
   "execution_count": 41,
   "metadata": {
    "collapsed": false,
    "scrolled": true
   },
   "outputs": [
    {
     "data": {
      "text/plain": [
       "['Children_Speckles_Count',\n",
       " 'Math_FractionOfSignalInSpecklesInterior',\n",
       " 'Math_TotalIntegratedSpeckleIntensity',\n",
       " 'Math_TotalSpeckleAreaEstimateMicron',\n",
       " 'Math_TotalSpeckleToNucleusArea',\n",
       " 'Mean_Speckles_AreaShape_Area',\n",
       " 'Mean_Speckles_AreaShape_Center_X',\n",
       " 'Mean_Speckles_AreaShape_Center_Y',\n",
       " 'Mean_Speckles_AreaShape_Compactness',\n",
       " 'Mean_Speckles_AreaShape_Eccentricity',\n",
       " 'Mean_Speckles_AreaShape_EulerNumber',\n",
       " 'Mean_Speckles_AreaShape_Extent',\n",
       " 'Mean_Speckles_AreaShape_FormFactor',\n",
       " 'Mean_Speckles_AreaShape_MajorAxisLength',\n",
       " 'Mean_Speckles_AreaShape_MaxFeretDiameter',\n",
       " 'Mean_Speckles_AreaShape_MaximumRadius',\n",
       " 'Mean_Speckles_AreaShape_MeanRadius',\n",
       " 'Mean_Speckles_AreaShape_MedianRadius',\n",
       " 'Mean_Speckles_AreaShape_MinFeretDiameter',\n",
       " 'Mean_Speckles_AreaShape_MinorAxisLength',\n",
       " 'Mean_Speckles_AreaShape_Orientation',\n",
       " 'Mean_Speckles_AreaShape_Perimeter',\n",
       " 'Mean_Speckles_AreaShape_Solidity',\n",
       " 'Mean_Speckles_AreaShape_Zernike_0_0',\n",
       " 'Mean_Speckles_AreaShape_Zernike_1_1',\n",
       " 'Mean_Speckles_AreaShape_Zernike_2_0',\n",
       " 'Mean_Speckles_AreaShape_Zernike_2_2',\n",
       " 'Mean_Speckles_AreaShape_Zernike_3_1',\n",
       " 'Mean_Speckles_AreaShape_Zernike_3_3',\n",
       " 'Mean_Speckles_AreaShape_Zernike_4_0',\n",
       " 'Mean_Speckles_AreaShape_Zernike_4_2',\n",
       " 'Mean_Speckles_AreaShape_Zernike_4_4',\n",
       " 'Mean_Speckles_AreaShape_Zernike_5_1',\n",
       " 'Mean_Speckles_AreaShape_Zernike_5_3',\n",
       " 'Mean_Speckles_AreaShape_Zernike_5_5',\n",
       " 'Mean_Speckles_AreaShape_Zernike_6_0',\n",
       " 'Mean_Speckles_AreaShape_Zernike_6_2',\n",
       " 'Mean_Speckles_AreaShape_Zernike_6_4',\n",
       " 'Mean_Speckles_AreaShape_Zernike_6_6',\n",
       " 'Mean_Speckles_AreaShape_Zernike_7_1',\n",
       " 'Mean_Speckles_AreaShape_Zernike_7_3',\n",
       " 'Mean_Speckles_AreaShape_Zernike_7_5',\n",
       " 'Mean_Speckles_AreaShape_Zernike_7_7',\n",
       " 'Mean_Speckles_AreaShape_Zernike_8_0',\n",
       " 'Mean_Speckles_AreaShape_Zernike_8_2',\n",
       " 'Mean_Speckles_AreaShape_Zernike_8_4',\n",
       " 'Mean_Speckles_AreaShape_Zernike_8_6',\n",
       " 'Mean_Speckles_AreaShape_Zernike_8_8',\n",
       " 'Mean_Speckles_AreaShape_Zernike_9_1',\n",
       " 'Mean_Speckles_AreaShape_Zernike_9_3',\n",
       " 'Mean_Speckles_AreaShape_Zernike_9_5',\n",
       " 'Mean_Speckles_AreaShape_Zernike_9_7',\n",
       " 'Mean_Speckles_AreaShape_Zernike_9_9',\n",
       " 'Mean_Speckles_Intensity_IntegratedIntensityEdge_RawInput',\n",
       " 'Mean_Speckles_Intensity_IntegratedIntensity_RawInput',\n",
       " 'Mean_Speckles_Intensity_LowerQuartileIntensity_RawInput',\n",
       " 'Mean_Speckles_Intensity_MADIntensity_RawInput',\n",
       " 'Mean_Speckles_Intensity_MassDisplacement_RawInput',\n",
       " 'Mean_Speckles_Intensity_MaxIntensityEdge_RawInput',\n",
       " 'Mean_Speckles_Intensity_MaxIntensity_RawInput',\n",
       " 'Mean_Speckles_Intensity_MeanIntensityEdge_RawInput',\n",
       " 'Mean_Speckles_Intensity_MeanIntensity_RawInput',\n",
       " 'Mean_Speckles_Intensity_MedianIntensity_RawInput',\n",
       " 'Mean_Speckles_Intensity_MinIntensityEdge_RawInput',\n",
       " 'Mean_Speckles_Intensity_MinIntensity_RawInput',\n",
       " 'Mean_Speckles_Intensity_StdIntensityEdge_RawInput',\n",
       " 'Mean_Speckles_Intensity_StdIntensity_RawInput',\n",
       " 'Mean_Speckles_Intensity_UpperQuartileIntensity_RawInput',\n",
       " 'Mean_Speckles_Location_CenterMassIntensity_X_RawInput',\n",
       " 'Mean_Speckles_Location_CenterMassIntensity_Y_RawInput',\n",
       " 'Mean_Speckles_Location_Center_X',\n",
       " 'Mean_Speckles_Location_Center_Y',\n",
       " 'Mean_Speckles_Location_MaxIntensity_X_RawInput',\n",
       " 'Mean_Speckles_Location_MaxIntensity_Y_RawInput',\n",
       " 'Mean_Speckles_Number_Object_Number']"
      ]
     },
     "execution_count": 41,
     "metadata": {},
     "output_type": "execute_result"
    }
   ],
   "source": [
    "[re.match(pattern, colName).group() for colName in df_sn.columns.tolist() if re.match(pattern, colName) != None]"
   ]
  },
  {
   "cell_type": "code",
   "execution_count": 42,
   "metadata": {
    "collapsed": true
   },
   "outputs": [],
   "source": [
    "pattern = re.compile('.*child.*', re.IGNORECASE)"
   ]
  },
  {
   "cell_type": "code",
   "execution_count": 43,
   "metadata": {
    "collapsed": false,
    "scrolled": true
   },
   "outputs": [
    {
     "data": {
      "text/plain": [
       "[]"
      ]
     },
     "execution_count": 43,
     "metadata": {},
     "output_type": "execute_result"
    }
   ],
   "source": [
    "[re.match(pattern, colName).group() for colName in df_n.columns.tolist() if re.match(pattern, colName) != None]"
   ]
  },
  {
   "cell_type": "code",
   "execution_count": 44,
   "metadata": {
    "collapsed": false,
    "scrolled": true
   },
   "outputs": [
    {
     "data": {
      "text/plain": [
       "['ImageNumber',\n",
       " 'ObjectNumber',\n",
       " 'Metadata_ExperimentID',\n",
       " 'Metadata_FileLocation',\n",
       " 'Metadata_Frame',\n",
       " 'Metadata_ImageID',\n",
       " 'Metadata_Series',\n",
       " 'Metadata_Stain',\n",
       " 'Metadata_Treatment',\n",
       " 'AreaShape_Area',\n",
       " 'AreaShape_Center_X',\n",
       " 'AreaShape_Center_Y',\n",
       " 'AreaShape_Compactness',\n",
       " 'AreaShape_Eccentricity',\n",
       " 'AreaShape_EulerNumber',\n",
       " 'AreaShape_Extent',\n",
       " 'AreaShape_FormFactor',\n",
       " 'AreaShape_MajorAxisLength',\n",
       " 'AreaShape_MaxFeretDiameter',\n",
       " 'AreaShape_MaximumRadius',\n",
       " 'AreaShape_MeanRadius',\n",
       " 'AreaShape_MedianRadius',\n",
       " 'AreaShape_MinFeretDiameter',\n",
       " 'AreaShape_MinorAxisLength',\n",
       " 'AreaShape_Orientation',\n",
       " 'AreaShape_Perimeter',\n",
       " 'AreaShape_Solidity',\n",
       " 'AreaShape_Zernike_0_0',\n",
       " 'AreaShape_Zernike_1_1',\n",
       " 'AreaShape_Zernike_2_0',\n",
       " 'AreaShape_Zernike_2_2',\n",
       " 'AreaShape_Zernike_3_1',\n",
       " 'AreaShape_Zernike_3_3',\n",
       " 'AreaShape_Zernike_4_0',\n",
       " 'AreaShape_Zernike_4_2',\n",
       " 'AreaShape_Zernike_4_4',\n",
       " 'AreaShape_Zernike_5_1',\n",
       " 'AreaShape_Zernike_5_3',\n",
       " 'AreaShape_Zernike_5_5',\n",
       " 'AreaShape_Zernike_6_0',\n",
       " 'AreaShape_Zernike_6_2',\n",
       " 'AreaShape_Zernike_6_4',\n",
       " 'AreaShape_Zernike_6_6',\n",
       " 'AreaShape_Zernike_7_1',\n",
       " 'AreaShape_Zernike_7_3',\n",
       " 'AreaShape_Zernike_7_5',\n",
       " 'AreaShape_Zernike_7_7',\n",
       " 'AreaShape_Zernike_8_0',\n",
       " 'AreaShape_Zernike_8_2',\n",
       " 'AreaShape_Zernike_8_4',\n",
       " 'AreaShape_Zernike_8_6',\n",
       " 'AreaShape_Zernike_8_8',\n",
       " 'AreaShape_Zernike_9_1',\n",
       " 'AreaShape_Zernike_9_3',\n",
       " 'AreaShape_Zernike_9_5',\n",
       " 'AreaShape_Zernike_9_7',\n",
       " 'AreaShape_Zernike_9_9',\n",
       " 'Intensity_IntegratedIntensityEdge_ImageAfterMathLamina',\n",
       " 'Intensity_IntegratedIntensityEdge_RawInput',\n",
       " 'Intensity_IntegratedIntensity_ImageAfterMathLamina',\n",
       " 'Intensity_IntegratedIntensity_RawInput',\n",
       " 'Intensity_LowerQuartileIntensity_ImageAfterMathLamina',\n",
       " 'Intensity_LowerQuartileIntensity_RawInput',\n",
       " 'Intensity_MADIntensity_ImageAfterMathLamina',\n",
       " 'Intensity_MADIntensity_RawInput',\n",
       " 'Intensity_MassDisplacement_ImageAfterMathLamina',\n",
       " 'Intensity_MassDisplacement_RawInput',\n",
       " 'Intensity_MaxIntensityEdge_ImageAfterMathLamina',\n",
       " 'Intensity_MaxIntensityEdge_RawInput',\n",
       " 'Intensity_MaxIntensity_ImageAfterMathLamina',\n",
       " 'Intensity_MaxIntensity_RawInput',\n",
       " 'Intensity_MeanIntensityEdge_ImageAfterMathLamina',\n",
       " 'Intensity_MeanIntensityEdge_RawInput',\n",
       " 'Intensity_MeanIntensity_ImageAfterMathLamina',\n",
       " 'Intensity_MeanIntensity_RawInput',\n",
       " 'Intensity_MedianIntensity_ImageAfterMathLamina',\n",
       " 'Intensity_MedianIntensity_RawInput',\n",
       " 'Intensity_MinIntensityEdge_ImageAfterMathLamina',\n",
       " 'Intensity_MinIntensityEdge_RawInput',\n",
       " 'Intensity_MinIntensity_ImageAfterMathLamina',\n",
       " 'Intensity_MinIntensity_RawInput',\n",
       " 'Intensity_StdIntensityEdge_ImageAfterMathLamina',\n",
       " 'Intensity_StdIntensityEdge_RawInput',\n",
       " 'Intensity_StdIntensity_ImageAfterMathLamina',\n",
       " 'Intensity_StdIntensity_RawInput',\n",
       " 'Intensity_UpperQuartileIntensity_ImageAfterMathLamina',\n",
       " 'Intensity_UpperQuartileIntensity_RawInput',\n",
       " 'Location_CenterMassIntensity_X_ImageAfterMathLamina',\n",
       " 'Location_CenterMassIntensity_X_RawInput',\n",
       " 'Location_CenterMassIntensity_Y_ImageAfterMathLamina',\n",
       " 'Location_CenterMassIntensity_Y_RawInput',\n",
       " 'Location_Center_X',\n",
       " 'Location_Center_Y',\n",
       " 'Location_MaxIntensity_X_ImageAfterMathLamina',\n",
       " 'Location_MaxIntensity_X_RawInput',\n",
       " 'Location_MaxIntensity_Y_ImageAfterMathLamina',\n",
       " 'Location_MaxIntensity_Y_RawInput',\n",
       " 'Math_AreaSquareMicron',\n",
       " 'Math_AspectRatioNuclei',\n",
       " 'Math_MaxFeretMicron',\n",
       " 'Math_MinFeretMicron',\n",
       " 'Math_TotalSpeckleToNucleusArea',\n",
       " 'Number_Object_Number',\n",
       " 'Texture_AngularSecondMoment_RawInput_10_0',\n",
       " 'Texture_AngularSecondMoment_RawInput_10_90',\n",
       " 'Texture_AngularSecondMoment_RawInput_5_0',\n",
       " 'Texture_AngularSecondMoment_RawInput_5_90',\n",
       " 'Texture_Contrast_RawInput_10_0',\n",
       " 'Texture_Contrast_RawInput_10_90',\n",
       " 'Texture_Contrast_RawInput_5_0',\n",
       " 'Texture_Contrast_RawInput_5_90',\n",
       " 'Texture_Correlation_RawInput_10_0',\n",
       " 'Texture_Correlation_RawInput_10_90',\n",
       " 'Texture_Correlation_RawInput_5_0',\n",
       " 'Texture_Correlation_RawInput_5_90',\n",
       " 'Texture_DifferenceEntropy_RawInput_10_0',\n",
       " 'Texture_DifferenceEntropy_RawInput_10_90',\n",
       " 'Texture_DifferenceEntropy_RawInput_5_0',\n",
       " 'Texture_DifferenceEntropy_RawInput_5_90',\n",
       " 'Texture_DifferenceVariance_RawInput_10_0',\n",
       " 'Texture_DifferenceVariance_RawInput_10_90',\n",
       " 'Texture_DifferenceVariance_RawInput_5_0',\n",
       " 'Texture_DifferenceVariance_RawInput_5_90',\n",
       " 'Texture_Entropy_RawInput_10_0',\n",
       " 'Texture_Entropy_RawInput_10_90',\n",
       " 'Texture_Entropy_RawInput_5_0',\n",
       " 'Texture_Entropy_RawInput_5_90',\n",
       " 'Texture_InfoMeas1_RawInput_10_0',\n",
       " 'Texture_InfoMeas1_RawInput_10_90',\n",
       " 'Texture_InfoMeas1_RawInput_5_0',\n",
       " 'Texture_InfoMeas1_RawInput_5_90',\n",
       " 'Texture_InfoMeas2_RawInput_10_0',\n",
       " 'Texture_InfoMeas2_RawInput_10_90',\n",
       " 'Texture_InfoMeas2_RawInput_5_0',\n",
       " 'Texture_InfoMeas2_RawInput_5_90',\n",
       " 'Texture_InverseDifferenceMoment_RawInput_10_0',\n",
       " 'Texture_InverseDifferenceMoment_RawInput_10_90',\n",
       " 'Texture_InverseDifferenceMoment_RawInput_5_0',\n",
       " 'Texture_InverseDifferenceMoment_RawInput_5_90',\n",
       " 'Texture_SumAverage_RawInput_10_0',\n",
       " 'Texture_SumAverage_RawInput_10_90',\n",
       " 'Texture_SumAverage_RawInput_5_0',\n",
       " 'Texture_SumAverage_RawInput_5_90',\n",
       " 'Texture_SumEntropy_RawInput_10_0',\n",
       " 'Texture_SumEntropy_RawInput_10_90',\n",
       " 'Texture_SumEntropy_RawInput_5_0',\n",
       " 'Texture_SumEntropy_RawInput_5_90',\n",
       " 'Texture_SumVariance_RawInput_10_0',\n",
       " 'Texture_SumVariance_RawInput_10_90',\n",
       " 'Texture_SumVariance_RawInput_5_0',\n",
       " 'Texture_SumVariance_RawInput_5_90',\n",
       " 'Texture_Variance_RawInput_10_0',\n",
       " 'Texture_Variance_RawInput_10_90',\n",
       " 'Texture_Variance_RawInput_5_0',\n",
       " 'Texture_Variance_RawInput_5_90']"
      ]
     },
     "execution_count": 44,
     "metadata": {},
     "output_type": "execute_result"
    }
   ],
   "source": [
    "df_n.columns.tolist()"
   ]
  },
  {
   "cell_type": "markdown",
   "metadata": {},
   "source": [
    "Experimental groups are encoded in Metadata_Treatment."
   ]
  },
  {
   "cell_type": "code",
   "execution_count": 45,
   "metadata": {
    "collapsed": false
   },
   "outputs": [
    {
     "data": {
      "text/plain": [
       "(array(['R3-4si', 'control'], dtype=object),\n",
       " array(['R3-4si', 'control'], dtype=object))"
      ]
     },
     "execution_count": 45,
     "metadata": {},
     "output_type": "execute_result"
    }
   ],
   "source": [
    "df_n.Metadata_Treatment.unique(), \\\n",
    "df_sn.Metadata_Treatment.unique()"
   ]
  },
  {
   "cell_type": "code",
   "execution_count": 46,
   "metadata": {
    "collapsed": false
   },
   "outputs": [
    {
     "data": {
      "text/plain": [
       "(Metadata_Treatment\n",
       " R3-4si     1595\n",
       " control    1954\n",
       " Name: ImageNumber, dtype: int64, Metadata_Treatment\n",
       " R3-4si     1595\n",
       " control    1954\n",
       " Name: ImageNumber, dtype: int64)"
      ]
     },
     "execution_count": 46,
     "metadata": {},
     "output_type": "execute_result"
    }
   ],
   "source": [
    "df_n.groupby('Metadata_Treatment').count().iloc[:,0], \\\n",
    "df_sn.groupby('Metadata_Treatment').count().iloc[:,0]"
   ]
  },
  {
   "cell_type": "markdown",
   "metadata": {},
   "source": [
    "###Loading data to R"
   ]
  },
  {
   "cell_type": "code",
   "execution_count": 47,
   "metadata": {
    "collapsed": false
   },
   "outputs": [],
   "source": [
    "%R -i df_n\n",
    "%R -i df_sn"
   ]
  },
  {
   "cell_type": "code",
   "execution_count": 48,
   "metadata": {
    "collapsed": false,
    "scrolled": true
   },
   "outputs": [
    {
     "data": {
      "text/plain": [
       "   [1]  15   8   5  11  10  12  14  10  19  17  12  11   6   7  16  15  10  10\n",
       "  [19]  11  15   9   7  10  14  12   9   6  11  19   5  11   9  17  15  11  13\n",
       "  [37]   7  12  13  14   8  15  17   6   9   6  20  12   4   8  19   7  11  12\n",
       "  [55]  10  10  16  16  18  13  13  17   8  10  11   9  32  12   6  13  13  19\n",
       "  [73]   9   7   7  14  14   7  14   9  13   7   6  87  14   5  12   3  10  15\n",
       "  [91]  17  20  13  16   6  14  12  10  11   3  12  18   6  25  16   6   0  16\n",
       " [109]  16  15   8   7  11  13   8   7  10  16  12  11  15   4   8   3  12   5\n",
       " [127]  22  11  19  11   7   5   6   9  13   0  10   3   8   9   3   2  15  11\n",
       " [145]   7  10   9   7  11  18  14   8  13   8  21  29   9  24   4   2   5  15\n",
       " [163]  11  11   5   6   6   4  14   4   9  13  11   6  13  13  13  10   6  14\n",
       " [181]  19  12  14  16  11   9  10  10   9   6   4  14   5  19   2  14   3   9\n",
       " [199]   8  11   6  13   7  20  17   4   0  17  13  13  11  11   2   2  19  17\n",
       " [217]  12  13  13  11   3  10  14   5  12   7  16   7  12  14   9  13  19  10\n",
       " [235]  12  18  12  34  10  13   9   9   7  16   9  18   4  10  11  10   7   0\n",
       " [253]  13   5  20   4  10  13   9   6  18  22   9   9  11  19  15   5  12  31\n",
       " [271]  11   4  13  10   9  12  12  11  12   8  13   5  15   7   2  12   7   7\n",
       " [289]  52   6   4   6  14  20  12  16  16  11  27  13   9   7  19  10  27   9\n",
       " [307]  12  15   7  14   0  17   5  24   6  14  20  11   5  13   0  11  15   0\n",
       " [325]  14   7   0   0   0   7  10   9   7   9  11  16  10   4  13   5  16   5\n",
       " [343]   8   8   8   3  11  12  10   5   8   8   7   0  10  17  10  13   9  15\n",
       " [361]   5  14  12  35  12   0   0  12   8  27  12   7  15   3   4   1  12   2\n",
       " [379]  23   6   5   4  11  17   2  13  11  13   0  21  26   3  10   3  17   5\n",
       " [397]  18   9  18   3   8  11  18  18  18  15   6  15  17   5   7   0  10   6\n",
       " [415]   8  11   1   4   3   7   6   6   8   1   5  13  10   7  11  12  10  14\n",
       " [433]   8   7  15  12  15  11   4   8   1  12   6   0  18   0   5   8   5   8\n",
       " [451]   8  18   1  10  12  11  12   4   5   7   9   4   4  12  16  11  14  15\n",
       " [469]  13  19  14  15  16  12   5  26  17  12  10  12  15  62   6  15  12   8\n",
       " [487]   5  19  15  14  17   5  13  10   4  18   5   7   7  12   6  12  11  10\n",
       " [505]  13  12  11  12   8   9   4  17  14  10   0   1   8   1   0   4   5   0\n",
       " [523]  10   5 101   6   1  10   4   7  19  17  12  12  14  11  15   4  24  10\n",
       " [541]  16  19   1   3  20   4  10   5   4   4   4   5   4  15  13  12   7   5\n",
       " [559]  15   8  11  12  13   4  16   7   9   3   6   4  11   9   8   7  14   9\n",
       " [577]   7  14  11  10  15   3   9   5   7   9   8   5   5  13  13  14  13   5\n",
       " [595]  13  18  16  11   9  16  10   6   8  10   7  10   7   0  12  11   0   0\n",
       " [613]   3  13   5   0  11   3  10  11   0   6   0   4   6   0   0   4   4   0\n",
       " [631]   7   0   0   3   0   6  13   0   0  21   8   8   4   0   2   0   2   0\n",
       " [649]   0   5   5   0   0   0   4   0  15   2  17   9   7  15   8   1  13  20\n",
       " [667]   0  17  10   0  10   2  18   0  18   7   0   0   4  10  13   4  15   8\n",
       " [685]   4   4  10   7   1   5   3   5   6  10   3   0   1  10   6  13  11   8\n",
       " [703]  10   4   2   3  14   9   0  10   6  10   8   5   2  13   2  14  25   3\n",
       " [721]   7   0   0   6  10   0   0   7   0   0   5   5   4  14   8   8   7  11\n",
       " [739]   3   3   6   0   6   0  12  13   8   0   6   4   7   0   9   4   6  10\n",
       " [757]   7   7   9  18   6  18  14  17   7   5   9  17   4  10   6  10  15   2\n",
       " [775]   6   6   5   4   0  15  23   7  10   7  15   4   9   0   5   7  16   8\n",
       " [793]  11   2   7  13  12  10  21  15   3  20   5   6   7   6   8  17  10   6\n",
       " [811]   0  10   1   1   4   7   0   7  13   0   9   2  15   2   0  10  15   8\n",
       " [829]   3   2  12  10  12  10   2   9   7  22  19   2  19  16   5  15  14  12\n",
       " [847]   4   2   7  27   4  11  18   9   5   3  13   2  13   1   2  41   7   5\n",
       " [865]   6   7  13   2   7   0   0   4  11   6   6  13   7  10   8  17  13   7\n",
       " [883]   7   7  14  10  11  10   6   8   9  13  15  18  10  17  10   9   8   4\n",
       " [901]   6  12  13  10  12   6  11   5  17   3   7   7   5   1   9   4   2   3\n",
       " [919]   9  13   4   7   2   8  10  11   1   3   4   6  21   9   3   0   9   9\n",
       " [937]   7   6   6   8  13   7   7   7  12  23   3   7   7   8   5   8  10   0\n",
       " [955]  12  13   1   7   7   3  15  12   8  11  10   7   8  11  16  17   8   4\n",
       " [973]   4   9   5   5   8   6  12   4  21   6   8   1   7   7   8   8  12   0\n",
       " [991]  11   5   7   5   3  10  12  14   8   9   6   4  10   6   9   9   7  13\n",
       "[1009]  14  19  12   0   1  20  15   2   3   1   8   3   6   0  12  19  12   9\n",
       "[1027]  14  10   8   2   2   4  12   7   5   6   6  11   4  10  10  12   7   3\n",
       "[1045]   4   9   7   5  11  13  10  12  13   4   3   8  30  13  13  11   9   9\n",
       "[1063]  12  35   7   7  12  13   8  15   6  15  11  23  13  18   6  25  16   7\n",
       "[1081]  11  13  12   2  10  14  12  16  22  39  14   1   6  16  11  15   6  16\n",
       "[1099]  14  12  18  18  13   8  15  15  17  12   6   5   6   6   0   0  10  10\n",
       "[1117]  11   9  12  12  12  21  15  16  22   9  24  13  10   0  10  12  10   7\n",
       "[1135]   7  11   4   5  11   4   3   8  10  25  11   7  10  13  11  12  12  20\n",
       "[1153]  10  14   6  20  12  14  10   5   0  27  11  10  11   8  12   9  74   8\n",
       "[1171]   4   6   9   8  11   6  14  12   7  12   7   8  19   8   3  13  14  10\n",
       "[1189]   9  23  21  17  10  13   5  27   9  19  15   6  12  18  12   2   7  10\n",
       "[1207]   2  13   2  15  13   9   5  10  17  10  17  11  15   9  15  13  10   2\n",
       "[1225]  29  13  12  13  14  12   7   6   7   2   9  22  10   8  10  25  12  13\n",
       "[1243]  18   9   4  14  17   9   8   3  10  13   7  13   8   3  20   6  11  12\n",
       "[1261]  15  15  10  16  11   9   3  13  10  14   6  16   9  16  15  16   6  18\n",
       "[1279]   8   6   5  16   6   4  10   9  10  20   7   7  12   5   2   6  17   2\n",
       "[1297]  16  21  17  16  13   2   5  16   4  10   6  13   7  10   3   2  11   5\n",
       "[1315]   9   5  12  10   8   9  17  11   5   9   0   8   4   6  20  11  12   6\n",
       "[1333]  11  11  14   8   4  13   8  15  14  10   9   4  13   9   8  10   8  11\n",
       "[1351]  12  14  11  17   9  13   6  16  22  10  12  15  10  23  17   8  17  10\n",
       "[1369]  13  15   5  20  14  15  17  19  19   6  10  20  15   3  20  14  15   9\n",
       "[1387]  12   6  13  13   6   9   6  16   9  10  12  11  14  11  15  10  11  12\n",
       "[1405]  14  12  13  13  10  14   9  11  11  11  10  32  14  14  17  25   8  11\n",
       "[1423]  68  14  10   9  16   6  18  13  14   8  17  16  16   9   7   8  19  10\n",
       "[1441]  16  12   8  16  11   7   1   8   9   8  13  15   4  13   7   4  19  21\n",
       "[1459]   8   6   5  16   5   6  19  22  14  18  17  18   7   5   9   6  11  19\n",
       "[1477]  10   4   2   3   3   4   9  11  27  16  14   8  15  11  10  22   7   9\n",
       "[1495]  17  17  23  10  14  15   1  16  11   5  12  18   9  10  10  19   7  13\n",
       "[1513]  10   6  32  13  11  13   5   8  16  13   0   7   5  14   5  11   8  10\n",
       "[1531]   9  14   3  10  15  29  12  11   1   0   7  12  22  10   2  30  13  65\n",
       "[1549]  21  14   7   9  13  11  19   7  19  16  20  18   9  17  13  11  37  13\n",
       "[1567]  13  14  15  28  15  11  15   3   8   7  25  33  14  10  10  16   8   8\n",
       "[1585]  13   3  10  16  15  10  16   4  13  12   3\n"
      ]
     },
     "metadata": {},
     "output_type": "display_data"
    }
   ],
   "source": [
    "%%R\n",
    "print(df_sn[df_sn[,'Metadata_Treatment']==\"R3-4si\",]$Children_Speckles_Count)\n",
    "kd.s = df_sn[df_sn[,'Metadata_Treatment']==\"R3-4si\",]$Children_Speckles_Count"
   ]
  },
  {
   "cell_type": "code",
   "execution_count": 49,
   "metadata": {
    "collapsed": false,
    "scrolled": true
   },
   "outputs": [
    {
     "data": {
      "text/plain": [
       "   [1]   9  10   5   4   8   0   8   7  17   2   9   1   2  11   0   9   9  15\n",
       "  [19]   2   4   3   4  14  11   8   9   8   5   8   2  22  16   8   0   8   9\n",
       "  [37]   3   2   3   1   9   2   7  31   5  17   0   4   2   3   3   8   5   2\n",
       "  [55]  11   2   4   8   4  22   1  24  10   2   0   1   3   4   0   2   2   0\n",
       "  [73]   2   6   0   2   3   0   0   7   2   3   7   7   0   6   3   2   4  11\n",
       "  [91]  14  11   5   3  20   3  16   1   3   9  12   7   0   5   6   7   2   6\n",
       " [109]   9   4   1   7   4   0   9  13   6   2  15   0   0   5   7   9   4  19\n",
       " [127]   2  10  17  10   5   3  17   2   1   8   1  16   4   8   0   0   4   3\n",
       " [145]   5   3  22   2  11   9   9   0  10  10   0   3   7  16   4   8   2   2\n",
       " [163]   5   0   2   7   8   3   4   2   2  11   8   6   6   4   3   3  22  14\n",
       " [181]  21   0   0   3   7  26  16   2  28   6   7   7  20   9  15  11   3   0\n",
       " [199]   8   6   2   1   5  11   1   3  14  10  10   9  14  18  13   7  14   7\n",
       " [217]   9   1  13   3  58  18   7  10  18   4   8   4  24   0   0   9   3   3\n",
       " [235]   8  11   6   9   8   4   7  23   5   7  13   7  16   3  20  11   6   0\n",
       " [253]   4   6   3   6  12  15   2  25   7   1   8  10   3   9   0   2   8   4\n",
       " [271]   1   0   7   3  19   5   7   3   2   8   2  13   1   7   3   0   3  14\n",
       " [289]   7   4   4   3   8   4   7   6   2   2   6   4  10   2   6   3   7   9\n",
       " [307]  11   0   3   0   0   4   1  15   3   9   4  16   0   6  32   1  12  17\n",
       " [325]  13   0   4   7   7   5   6   4   1  12   6   2  15  14   3   5   6   9\n",
       " [343]   6   8  13   7   2   1   8   6   0   7   4   2   2   4  21   5   2   1\n",
       " [361]   7   7   1   7   5   1   6  10   4   5   2   6   7  14   2   8  10   5\n",
       " [379]   4  11   2   0   5   7   2   9   2   6   4   8  15   2   8   6  18  12\n",
       " [397]   3   5  10   8   0   0   7  10   2   9  10   1  16  12   5   8   0  12\n",
       " [415]   5  21   7   8   3  21   7  14  14   1   0   2  17   4  10   7  13   3\n",
       " [433]   5   6  11  12  13   5   8   4  11   5   8   4   4   0  12  10  15  12\n",
       " [451]   9  17   2  23   7   0  12  14   1   1  15   7   2  13   2   7  10  11\n",
       " [469]  21  15   1   9  21   9   5   5  11  14   9  22   7   3   2   6   4   6\n",
       " [487]   6   8   4  10   1   5   7  13   4  10   3   3   0   1   6   7   1   3\n",
       " [505]   7   0  14   8   6   3  11   0   0  10   3   6   6   3  16   3   8   1\n",
       " [523]   0   2   0   5   4   6   0   5   2   8  11   8   7  28   8   4   8   6\n",
       " [541]   1   0   2   3   2   9   1   3   8   7   9   2   7  17  11  10   4  10\n",
       " [559]   2  22   4   0   6   1  17   0   3  17   0   6   0  13  14   9   4  22\n",
       " [577]   2   7  17  10  13   6   4   6  10   3   4   9   0  24   2  10   1   0\n",
       " [595]   8  11   6  14   1  10   5   2   0   0   5  15  49   1  11   8   7  13\n",
       " [613]  12   3  33   3   6  13   6  21  12   0   0   5   2   5  23   0   1   2\n",
       " [631]   0  36  11  13   7   4  11   1   0   0   3  11   0   0  11   5  23   2\n",
       " [649]   5   2   5   0   0   3  19  33  11   1   3  11   6  29  16  33  10   2\n",
       " [667]  11   0   1   6   4   4   2  15  20  13   3   1   8   4   3   1   0  27\n",
       " [685]  10   1  14   9   9   2  20  14   0   1   1   8   1   6   0  98   1   0\n",
       " [703]   3   2   1   1   0   0   2  12   2  12   4   9   4   7   8  13   4   2\n",
       " [721]   9   5  13   8   2   6   0   1   9  22   2   7  26   0   5  11   1   0\n",
       " [739]  22  15   2   1   4  17  23   4   0   2   9   5   6   4   9   8   5  17\n",
       " [757]   0   1   0  12   3   4   1   8   0   6  10   5  71   0  14   3  10  17\n",
       " [775]   5  10  30   2   2   6  21   7  21   7   4  10   2  34   0   9  20   1\n",
       " [793]   0   3   5   8   7   3   7  10   1   7   6   6   7   0   1  17  17  14\n",
       " [811]   0   6   4   2   1  34   4  10   0   1  10   3  18  29   0   5  22  17\n",
       " [829]   2   1   3   6   2   8  27  11   1   7   3   8   6   0   9  16  17   7\n",
       " [847]   8  25  11   5   0   0   9  10   8  23   4  31   1  11  21   0   9   4\n",
       " [865]   5   0  12   8   3   2   1   0  10   8  11   8  23   2   8  10  19  31\n",
       " [883]   8  14   7   3   5  13   2  10   0   8  11  14  13   8   8   3  16   4\n",
       " [901]  14  10   5   0   2   8   7   6  12  17  12   2  12  11   1   8   6   0\n",
       " [919]  13   2   7  13   0   8   5  10   6   9   4   5   6  11   4  11  10   3\n",
       " [937]   8   6   4   0   7   0  16   6   4   5   5   4  13   8   3  11   0  23\n",
       " [955]   5   2   9   4  14   4   6   2   9   8   6   0  16   4   5   0   9   7\n",
       " [973]  17   9  15   8  12   7   4   4  19  15  12   0   2  10  14   9  11   2\n",
       " [991]   0   0   4   4   0  10  16  13   0  15   6   8   4   4   9   2   6   4\n",
       "[1009]   4   0   2   3  11  10   2  24   0  13  20   0  11   1  31   6  60   0\n",
       "[1027]   5   2   2   8   0  16  20   5  11   9  17   1   4   3   9  13   5   2\n",
       "[1045]   9   6   8   8  13  18   4   4   6  15  15   6  12   7   6  14   2   7\n",
       "[1063]   6  12   8   9   0   4   9   5   6   0   1   7   3   7  12  35  10  23\n",
       "[1081]   1   0  22   0  10   8  17   8   7  10  21  11   9   0   5  11  13   0\n",
       "[1099]   2  16   0   6   7   4   7   8   4   2   5   0   0   6   0   2   6   3\n",
       "[1117]   3  10  14   0   4  13   2   8   3   8   7   4   6   4   8  36   3   0\n",
       "[1135]  13  15   6  14  15  13  12   1  10   0   6   1  12  21  15  13  11  13\n",
       "[1153]   1   4   7   5   8   6   2   3   1   2   3   3   0   7   3   9   3   7\n",
       "[1171]  19   3   4   0  11  12  19  13   4   4  12  10   6   4  12   0  12   3\n",
       "[1189]  11  13   6  15   4  18  13  11  10  21  30   8   1  11   6   4   6  72\n",
       "[1207]   2   8   9   9   5  14  15  13   7   8  14   4   6   9  57   3  20  10\n",
       "[1225]   7  12   6   7   8   5  15  13   8   5   5   0  21   9  10   0   6   0\n",
       "[1243]  19   6   0  15   0   1  16   0  10   3  18  12  13   2   3   8   0   0\n",
       "[1261]   7   6   8   0  50  22   4  15   7  10   5  13   6   3  11  17   6   8\n",
       "[1279]  12   0   6   5  12  13   9   2   9  16   3  19   0   1   0   2  16   9\n",
       "[1297]   4   6  10   2   6   9   3   3  29   8  14   7   7   2   0   9   0  11\n",
       "[1315]   9   1   5  14   1   7   5   2  17   6  14  14  19   0  15   0   4  16\n",
       "[1333]  19   0   7   2  15  38   0  20   6   5   2   0  14  13  10   5  10   6\n",
       "[1351]  22   9  10  16  10   9   0   1   5   7   0   2   2  13   8   5   6   7\n",
       "[1369]   0  12   2   3   1  16  20  13  18  18  21  11   9  17   8   6   0   9\n",
       "[1387]   4   1  11   7   1   6   0  12   6  18   0  10   1  22   7  20   6   0\n",
       "[1405]   9  15  12  20   3  13  47   0   9  10   8   9  20   7   0   5   2   5\n",
       "[1423]   4  10  10   9   8   3  12  62  11  12  15   1   1   0   7   8   7   0\n",
       "[1441]  12   7   0  38  10  13  16   1   9   5  23   4   6   2   1   1   1   3\n",
       "[1459]   1   3   0   2   0   3   5   8   5   5   7   1  12  15  13   8  15   6\n",
       "[1477]   3  13  14   8   1  14   5   4   1   0  15   3   2  82  10   2   7   7\n",
       "[1495]  23   6   1  16   1   5   0  11   0  16  12  17   7   0  21   4   1  11\n",
       "[1513]  13   5   7   7   3  18  20  68   8   2  10   0   0   4   6   4   8  11\n",
       "[1531]  11   5   7   9   4  12  10   4  11  18   8   4  14   8  14  18   9  14\n",
       "[1549]  11   9   1  69   9   8   1  11   8  15   2  24  11   0   5   1   4   1\n",
       "[1567]   5   8   4  19   6   2   7   1   7   0   0   9  11  11   7   0   3  18\n",
       "[1585]   6   5  11   8   0  23   1  14  17  12  22   6   0   7  25   9  13  13\n",
       "[1603]   9  10   9   6  23  12   0   8  17  13   7  13   1   9   8  12  17  11\n",
       "[1621]   9  11   0   4   5  15   3   0   4   2   5  14  19  11  11  12   7   8\n",
       "[1639]   1   3   9   3   0   7   6   7   0  13  16   2   5   1  15  19   0   3\n",
       "[1657]   1   4   8   8   0   2   9  13   0  10   5   5  32  13   4   6   6   0\n",
       "[1675]   4   0   7   5   0   0   2   3   0   8  22   9   9  15  12   9  10  14\n",
       "[1693]  12  16   5   5  13   8   4   0   0   4  11   8   2   1   9   9   3  16\n",
       "[1711]   9   3  10   0  10  25   3   9   7  35   0   9   6  12  14   3   2   7\n",
       "[1729]   6   2   9  11  24   9   4   9   3   8   7   8   5   2  12   5   4   8\n",
       "[1747]  15   8   6   0  10  12   3   5  13   0   8   1  12   6  14  11   6   6\n",
       "[1765]   5   2   2   4   0   5   0   1   4   4   1  16   2   7  16   9  16   2\n",
       "[1783]  10  12   4   2  32  13   1   0   0  78   9   6 126   5  10   6   6   8\n",
       "[1801]   1   9   0   2  12   8   3  13   5  18  12   7  16  11  16   8   6  23\n",
       "[1819]   4   4   4  10   4  10   2   8  11  12  15  10  14   4   9   8   4   4\n",
       "[1837]   3   6   9  16  21 101   6  15   4  16  11  11   1   2  13   5  12  17\n",
       "[1855]   6   2   1  19   3   8   2   6  12  16  12  14  17   8   2  10   0  10\n",
       "[1873]  10  13   9   6  10  20   3   4   7  20   5   9  11  10  11   0  12  14\n",
       "[1891]  22  15   3   3   5  10   2   8  10   5   5  11   2   5  12   6   8  11\n",
       "[1909]   1   2   5  11   4  11   6  18   1   5   9   5  12   8   9  14  20   7\n",
       "[1927]   5  12   5   6   5   9   5   5   3   6   6   4   6   6   3  12  10  10\n",
       "[1945]   7  12  11  11  15   9   6   0   4   4\n"
      ]
     },
     "metadata": {},
     "output_type": "display_data"
    }
   ],
   "source": [
    "%%R\n",
    "print(df_sn[df_sn[,'Metadata_Treatment']!=\"R3-4si\",]$Children_Speckles_Count)\n",
    "ctrl.s = df_sn[df_sn[,'Metadata_Treatment']!=\"R3-4si\",]$Children_Speckles_Count"
   ]
  },
  {
   "cell_type": "code",
   "execution_count": 50,
   "metadata": {
    "collapsed": false
   },
   "outputs": [
    {
     "data": {
      "image/png": "[encoded data removed]"
     },
     "metadata": {},
     "output_type": "display_data"
    }
   ],
   "source": [
    "%%R\n",
    "library(ggplot2)\n",
    "\n",
    "plot.sp.c=ggplot() \n",
    "plot.sp.c= plot.sp.c+geom_violin(data=df_sn,aes(x=Metadata_Treatment,y=log(Children_Speckles_Count) ,fill=factor(Metadata_Treatment)))\n",
    "plot.sp.c+theme(legend.position='none')+scale_fill_manual(values=c('#F8766D','#00BFC4'))\n",
    "\n",
    "#ggsave('../Plots/TPX2_violin_Math_AspectRatio_5.pdf')"
   ]
  },
  {
   "cell_type": "code",
   "execution_count": 51,
   "metadata": {
    "collapsed": false
   },
   "outputs": [
    {
     "data": {
      "image/png": "[encoded data removed]"
     },
     "metadata": {},
     "output_type": "display_data"
    }
   ],
   "source": [
    "%%R\n",
    "plot.sp.hist = ggplot()\n",
    "plot.sp.hist = plot.sp.hist + geom_histogram(data=df_sn[df_sn[,'Metadata_Treatment']==\"R3-4si\",], aes(x=Children_Speckles_Count), binwidth = 1, fill='#00BFC4', alpha=0.5)\n",
    "plot.sp.hist = plot.sp.hist + geom_histogram(data=df_sn[df_sn[,'Metadata_Treatment']!=\"R3-4si\",], aes(x=Children_Speckles_Count), binwidth = 1, fill='#F8766D', alpha=0.5)\n",
    "\n",
    "plot.sp.hist"
   ]
  },
  {
   "cell_type": "markdown",
   "metadata": {},
   "source": [
    "Are the two different?"
   ]
  },
  {
   "cell_type": "markdown",
   "metadata": {},
   "source": [
    "In R implementation KS test [does not deal well with discrete distributions](http://davetang.org/muse/2012/04/17/comparing-different-distributions/). The main reason for this are ties (non-unique values)."
   ]
  },
  {
   "cell_type": "code",
   "execution_count": 52,
   "metadata": {
    "collapsed": false
   },
   "outputs": [
    {
     "data": {
      "text/plain": [
       "\n",
       "\tTwo-sample Kolmogorov-Smirnov test\n",
       "\n",
       "data:  x and y\n",
       "D = 0.21599, p-value < 2.2e-16\n",
       "alternative hypothesis: two-sided\n",
       "\n"
      ]
     },
     "metadata": {},
     "output_type": "display_data"
    }
   ],
   "source": [
    "%%R\n",
    "y=df_sn[df_sn[,'Metadata_Treatment']==\"R3-4si\",]$Children_Speckles_Count\n",
    "x=df_sn[df_sn[,'Metadata_Treatment']!=\"R3-4si\",]$Children_Speckles_Count\n",
    "ks.test(x,y)"
   ]
  },
  {
   "cell_type": "markdown",
   "metadata": {},
   "source": [
    "As it is count data, it should follow Poisson distribution (p. 237, p. 250). See also count data in the R book."
   ]
  },
  {
   "cell_type": "code",
   "execution_count": 53,
   "metadata": {
    "collapsed": false
   },
   "outputs": [
    {
     "data": {
      "text/plain": [
       "[1] \"knockdown:\"\n",
       "\n",
       "  0   1   2   3   4   5   6   7   8   9  10  11  12  13  14  15  16  17  18  19 \n",
       " 79  25  43  52  77  81  96 115  95  95 134 103 105 107  69  70  52  44  32  30 \n",
       " 20  21  22  23  24  25  26  27  28  29  30  31  32  33  34  35  37  39  41  52 \n",
       " 19  11  10   7   4   7   2   7   1   3   2   1   3   1   1   2   1   1   1   1 \n",
       " 62  65  68  74  87 101 \n",
       "  1   1   1   1   1   1 \n",
       "[1] \"control:\"\n",
       "\n",
       "  0   1   2   3   4   5   6   7   8   9  10  11  12  13  14  15  16  17  18  19 \n",
       "202 115 147 122 139 117 135 121 128 110  91  85  67  63  49  42  37  31  17  15 \n",
       " 20  21  22  23  24  25  26  27  28  29  30  31  32  33  34  35  36  38  47  49 \n",
       " 18  17  17  14   6   4   2   2   2   3   2   4   3   3   2   2   2   2   1   1 \n",
       " 50  57  58  60  62  68  69  71  72  78  82  98 101 126 \n",
       "  1   1   1   1   1   1   1   1   1   1   1   1   1   1 \n"
      ]
     },
     "metadata": {},
     "output_type": "display_data"
    }
   ],
   "source": [
    "%%R \n",
    "#print(table(df_sn$Children_Speckles_Count))\n",
    "print('knockdown:')\n",
    "print(table(df_sn[df_sn[,'Metadata_Treatment']==\"R3-4si\",]$Children_Speckles_Count))\n",
    "print('control:')\n",
    "print(table(df_sn[df_sn[,'Metadata_Treatment']!=\"R3-4si\",]$Children_Speckles_Count))"
   ]
  },
  {
   "cell_type": "markdown",
   "metadata": {},
   "source": [
    "The assumption behind Poisson, though, is that mean = variance. This is not the case here. "
   ]
  },
  {
   "cell_type": "code",
   "execution_count": 54,
   "metadata": {
    "collapsed": false
   },
   "outputs": [
    {
     "data": {
      "text/plain": [
       "  control    R3-4si \n",
       " 8.085977 10.289028 \n",
       " control   R3-4si \n",
       "76.72788 53.12281 \n"
      ]
     },
     "metadata": {},
     "output_type": "display_data"
    }
   ],
   "source": [
    "%%R\n",
    "print(tapply(df_sn$Children_Speckles_Count, df_sn$Metadata_Treatment, mean))\n",
    "print(tapply(df_sn$Children_Speckles_Count, df_sn$Metadata_Treatment, var))"
   ]
  },
  {
   "cell_type": "code",
   "execution_count": 55,
   "metadata": {
    "collapsed": false
   },
   "outputs": [
    {
     "data": {
      "text/plain": [
       " control \n",
       "9.489005 \n"
      ]
     },
     "metadata": {},
     "output_type": "display_data"
    }
   ],
   "source": [
    "%%R\n",
    "tapply(df_sn$Children_Speckles_Count, df_sn$Metadata_Treatment, var)[1]/tapply(df_sn$Children_Speckles_Count, df_sn$Metadata_Treatment, mean)[1]"
   ]
  },
  {
   "cell_type": "code",
   "execution_count": 56,
   "metadata": {
    "collapsed": false
   },
   "outputs": [
    {
     "data": {
      "text/plain": [
       "  R3-4si \n",
       "5.163054 \n"
      ]
     },
     "metadata": {},
     "output_type": "display_data"
    }
   ],
   "source": [
    "%%R\n",
    "tapply(df_sn$Children_Speckles_Count, df_sn$Metadata_Treatment, var)[2]/tapply(df_sn$Children_Speckles_Count, df_sn$Metadata_Treatment, mean)[2]"
   ]
  },
  {
   "cell_type": "markdown",
   "metadata": {},
   "source": [
    "The above show that in both cases the data is overdispersed."
   ]
  },
  {
   "cell_type": "code",
   "execution_count": 57,
   "metadata": {
    "collapsed": false
   },
   "outputs": [
    {
     "data": {
      "text/plain": [
       "[1] 1954\n",
       "[1] 1595\n"
      ]
     },
     "metadata": {},
     "output_type": "display_data"
    }
   ],
   "source": [
    "%%R\n",
    "print(length(x))\n",
    "print(length(y))"
   ]
  },
  {
   "cell_type": "code",
   "execution_count": 58,
   "metadata": {
    "collapsed": false
   },
   "outputs": [
    {
     "data": {
      "image/png": "[encoded data removed]"
     },
     "metadata": {},
     "output_type": "display_data"
    }
   ],
   "source": [
    "%%R -w 900 -h 400 -u px\n",
    "par(mfrow=c(1,2))\n",
    "\n",
    "barplot(table(df_sn[df_sn[,'Metadata_Treatment']==\"R3-4si\",]$Children_Speckles_Count), ylim=c(0,210),ylab = 'frequencies', xlab = 'speckle count', main = 'observed::KD', xlim=c(0,101))\n",
    "barplot(dpois(0:101,8.085977)*1595, xlim=c(0,101), ylim=c(0,210),names=as.character(0:101),ylab = 'frequencies', xlab = 'speckle count', main = 'expected')"
   ]
  },
  {
   "cell_type": "code",
   "execution_count": 59,
   "metadata": {
    "collapsed": false
   },
   "outputs": [
    {
     "data": {
      "image/png": "[encoded data removed]"
     },
     "metadata": {},
     "output_type": "display_data"
    }
   ],
   "source": [
    "%%R -w 900 -h 400 -u px\n",
    "par(mfrow=c(1,2))\n",
    "\n",
    "barplot(table(df_sn[df_sn[,'Metadata_Treatment']!=\"R3-4si\",]$Children_Speckles_Count), ylim=c(0,210),ylab = 'frequencies', xlab = 'speckle count', main = 'observed::CTRL', xlim=c(0,101))\n",
    "barplot(dpois(0:101,8.085977)*1595, xlim=c(0,101), ylim=c(0,210),names=as.character(0:101),ylab = 'frequencies', xlab = 'speckle count', main = 'expected')"
   ]
  },
  {
   "cell_type": "markdown",
   "metadata": {},
   "source": [
    "Is the negative binomial better?"
   ]
  },
  {
   "cell_type": "code",
   "execution_count": 60,
   "metadata": {
    "collapsed": false
   },
   "outputs": [
    {
     "data": {
      "text/plain": [
       "[1] 0.9525236\n"
      ]
     },
     "metadata": {},
     "output_type": "display_data"
    },
    {
     "data": {
      "image/png": "[encoded data removed]"
     },
     "metadata": {},
     "output_type": "display_data"
    }
   ],
   "source": [
    "%%R -w 900 -h 400 -u px\n",
    "par(mfrow=c(1,2))\n",
    "\n",
    "k.ctrl=mean(df_sn[df_sn[,'Metadata_Treatment']!=\"R3-4si\",]$Children_Speckles_Count)^2/(var(df_sn[df_sn[,'Metadata_Treatment']!=\"R3-4si\",]$Children_Speckles_Count)-mean(df_sn[df_sn[,'Metadata_Treatment']!=\"R3-4si\",]$Children_Speckles_Count))\n",
    "print(k.ctrl)\n",
    "expected.ctrl = dnbinom(0:126,size=k.ctrl,mu=8.085977)*1954 \n",
    "barplot(table(df_sn[df_sn[,'Metadata_Treatment']!=\"R3-4si\",]$Children_Speckles_Count), ylim=c(0,210),ylab = 'frequencies', xlab = 'speckle count', main = 'observed::CTRL', xlim=c(0,126))\n",
    "barplot(expected.ctrl , xlim=c(0,126), ylim=c(0,210),names=as.character(0:126),ylab = 'frequencies', xlab = 'speckle count', main = 'expected')\n"
   ]
  },
  {
   "cell_type": "code",
   "execution_count": 61,
   "metadata": {
    "collapsed": false
   },
   "outputs": [
    {
     "data": {
      "text/plain": [
       "[1] 1.542266\n"
      ]
     },
     "metadata": {},
     "output_type": "display_data"
    },
    {
     "data": {
      "image/png": "[encoded data removed]"
     },
     "metadata": {},
     "output_type": "display_data"
    }
   ],
   "source": [
    "%%R -w 900 -h 400 -u px\n",
    "par(mfrow=c(1,2))\n",
    "\n",
    "k.kd=mean(df_sn[df_sn[,'Metadata_Treatment']==\"R3-4si\",]$Children_Speckles_Count)^2/(var(df_sn[df_sn[,'Metadata_Treatment']!=\"R3-4si\",]$Children_Speckles_Count)-mean(df_sn[df_sn[,'Metadata_Treatment']!=\"R3-4si\",]$Children_Speckles_Count))\n",
    "print(k.kd)\n",
    "expected.kd = dnbinom(0:101,size=k.kd,mu=8.085977)*1595  \n",
    "barplot(table(df_sn[df_sn[,'Metadata_Treatment']==\"R3-4si\",]$Children_Speckles_Count), ylim=c(0,210),ylab = 'frequencies', xlab = 'speckle count', main = 'observed::CTRL', xlim=c(0,101))\n",
    "barplot(expected.kd , xlim=c(0,101), ylim=c(0,210),names=as.character(0:101),ylab = 'frequencies', xlab = 'speckle count', main = 'expected')"
   ]
  },
  {
   "cell_type": "code",
   "execution_count": 62,
   "metadata": {
    "collapsed": false
   },
   "outputs": [
    {
     "data": {
      "text/plain": [
       "  [1] 9.463702e+01 1.225761e+02 1.308526e+02 1.297561e+02 1.237445e+02\n",
       "  [6] 1.151937e+02 1.054851e+02 9.545097e+01 8.559510e+01 7.621551e+01\n",
       " [11] 6.747809e+01 5.946298e+01 5.219475e+01 4.566256e+01 3.983362e+01\n",
       " [16] 3.466238e+01 3.009669e+01 2.608201e+01 2.256404e+01 1.949053e+01\n",
       " [21] 1.681231e+01 1.448388e+01 1.246365e+01 1.071399e+01 9.201105e+00\n",
       " [26] 7.894867e+00 6.768539e+00 5.798508e+00 4.964004e+00 4.246816e+00\n",
       " [31] 3.631022e+00 3.102741e+00 2.649896e+00 2.262000e+00 1.929968e+00\n",
       " [36] 1.645934e+00 1.403108e+00 1.195625e+00 1.018437e+00 8.671948e-01\n",
       " [41] 7.381594e-01 6.281190e-01 5.343166e-01 4.543878e-01 3.863063e-01\n",
       " [46] 3.283366e-01 2.789938e-01 2.370074e-01 2.012919e-01 1.709194e-01\n",
       " [51] 1.450981e-01 1.231517e-01 1.045036e-01 8.866201e-02 7.520772e-02\n",
       " [56] 6.378357e-02 5.408532e-02 4.585397e-02 3.886905e-02 3.294297e-02\n",
       " [61] 2.791616e-02 2.365292e-02 2.003789e-02 1.697304e-02 1.437505e-02\n",
       " [66] 1.217315e-02 1.030723e-02 8.726262e-03 7.386918e-03 6.252424e-03\n",
       " [71] 5.291579e-03 4.477907e-03 3.788952e-03 3.205669e-03 2.711908e-03\n",
       " [76] 2.293978e-03 1.940271e-03 1.640951e-03 1.387682e-03 1.173400e-03\n",
       " [81] 9.921229e-04 8.387812e-04 7.090823e-04 5.993911e-04 5.066293e-04\n",
       " [86] 4.281910e-04 3.618702e-04 3.057995e-04 2.583986e-04 2.183302e-04\n",
       " [91] 1.844625e-04 1.558381e-04 1.316472e-04 1.112044e-04 9.393025e-05\n",
       " [96] 7.933464e-05 6.700304e-05 5.658497e-05 4.778406e-05 4.034974e-05\n",
       "[101] 3.407022e-05 2.876642e-05\n"
      ]
     },
     "metadata": {},
     "output_type": "display_data"
    }
   ],
   "source": [
    "%%R \n",
    "expected.kd"
   ]
  },
  {
   "cell_type": "markdown",
   "metadata": {},
   "source": [
    "Analysis of deviance (unexplained variation):"
   ]
  },
  {
   "cell_type": "code",
   "execution_count": 63,
   "metadata": {
    "collapsed": false
   },
   "outputs": [
    {
     "data": {
      "text/plain": [
       "\n",
       "Call:\n",
       "glm(formula = df_sn$Children_Speckles_Count ~ df_sn$Metadata_Treatment, \n",
       "    family = poisson)\n",
       "\n",
       "Deviance Residuals: \n",
       "   Min      1Q  Median      3Q     Max  \n",
       "-4.536  -1.833  -0.391   0.971  21.359  \n",
       "\n",
       "Coefficients:\n",
       "                               Estimate Std. Error z value Pr(>|z|)    \n",
       "(Intercept)                    2.090131   0.007956  262.73   <2e-16 ***\n",
       "df_sn$Metadata_TreatmentR3-4si 0.240947   0.011146   21.62   <2e-16 ***\n",
       "---\n",
       "Signif. codes:  0 ‘***’ 0.001 ‘**’ 0.01 ‘*’ 0.05 ‘.’ 0.1 ‘ ’ 1\n",
       "\n",
       "(Dispersion parameter for poisson family taken to be 1)\n",
       "\n",
       "    Null deviance: 21119  on 3548  degrees of freedom\n",
       "Residual deviance: 20652  on 3547  degrees of freedom\n",
       "AIC: 33372\n",
       "\n",
       "Number of Fisher Scoring iterations: 5\n",
       "\n"
      ]
     },
     "metadata": {},
     "output_type": "display_data"
    }
   ],
   "source": [
    "%%R\n",
    "m.1.simple = glm(df_sn$Children_Speckles_Count ~ df_sn$Metadata_Treatment, family=poisson)\n",
    "summary(m.1.simple)"
   ]
  },
  {
   "cell_type": "markdown",
   "metadata": {},
   "source": [
    "Residual deviance (20652) is much greater than the residual degrees of freedom (3547) indicating substantial overdisperssion (greater variability in data than what would be expected given the model)."
   ]
  },
  {
   "cell_type": "code",
   "execution_count": 64,
   "metadata": {
    "collapsed": false
   },
   "outputs": [
    {
     "data": {
      "text/plain": [
       "\n",
       "Call:\n",
       "glm(formula = df_sn$Children_Speckles_Count ~ df_sn$Metadata_Treatment, \n",
       "    family = quasipoisson)\n",
       "\n",
       "Deviance Residuals: \n",
       "   Min      1Q  Median      3Q     Max  \n",
       "-4.536  -1.833  -0.391   0.971  21.359  \n",
       "\n",
       "Coefficients:\n",
       "                               Estimate Std. Error t value Pr(>|t|)    \n",
       "(Intercept)                     2.09013    0.02185   95.65  < 2e-16 ***\n",
       "df_sn$Metadata_TreatmentR3-4si  0.24095    0.03062    7.87 4.67e-15 ***\n",
       "---\n",
       "Signif. codes:  0 ‘***’ 0.001 ‘**’ 0.01 ‘*’ 0.05 ‘.’ 0.1 ‘ ’ 1\n",
       "\n",
       "(Dispersion parameter for quasipoisson family taken to be 7.544968)\n",
       "\n",
       "    Null deviance: 21119  on 3548  degrees of freedom\n",
       "Residual deviance: 20652  on 3547  degrees of freedom\n",
       "AIC: NA\n",
       "\n",
       "Number of Fisher Scoring iterations: 5\n",
       "\n"
      ]
     },
     "metadata": {},
     "output_type": "display_data"
    }
   ],
   "source": [
    "%%R\n",
    "m.2.simple = glm(df_sn$Children_Speckles_Count ~ df_sn$Metadata_Treatment, family=quasipoisson)\n",
    "summary(m.2.simple)"
   ]
  },
  {
   "cell_type": "code",
   "execution_count": 65,
   "metadata": {
    "collapsed": false
   },
   "outputs": [],
   "source": [
    "%%R\n",
    "library(MASS)\n",
    "df.mod = as.data.frame(cbind(df_sn$Children_Speckles_Count,df_sn$Metadata_Treatment))\n",
    "#step required: http://stackoverflow.com/questions/16985965/non-comformable-arrays-error-when-using-xts-series-in-a-logistic-regression"
   ]
  },
  {
   "cell_type": "code",
   "execution_count": 66,
   "metadata": {
    "collapsed": false
   },
   "outputs": [
    {
     "data": {
      "text/plain": [
       "\n",
       "Call:\n",
       "glm.nb(formula = V1 ~ V2, data = df.mod, init.theta = 1.724648672, \n",
       "    link = log)\n",
       "\n",
       "Deviance Residuals: \n",
       "    Min       1Q   Median       3Q      Max  \n",
       "-2.5875  -0.7667  -0.1586   0.3900   6.0367  \n",
       "\n",
       "Coefficients:\n",
       "            Estimate Std. Error z value Pr(>|z|)    \n",
       "(Intercept)  1.84918    0.04318  42.824   <2e-16 ***\n",
       "V2           0.24095    0.02801   8.603   <2e-16 ***\n",
       "---\n",
       "Signif. codes:  0 ‘***’ 0.001 ‘**’ 0.01 ‘*’ 0.05 ‘.’ 0.1 ‘ ’ 1\n",
       "\n",
       "(Dispersion parameter for Negative Binomial(1.7246) family taken to be 1)\n",
       "\n",
       "    Null deviance: 4203.0  on 3548  degrees of freedom\n",
       "Residual deviance: 4128.7  on 3547  degrees of freedom\n",
       "AIC: 22758\n",
       "\n",
       "Number of Fisher Scoring iterations: 1\n",
       "\n",
       "\n",
       "              Theta:  1.7246 \n",
       "          Std. Err.:  0.0511 \n",
       "\n",
       " 2 x log-likelihood:  -22752.1540 \n"
      ]
     },
     "metadata": {},
     "output_type": "display_data"
    }
   ],
   "source": [
    "%%R\n",
    "library(MASS)\n",
    "m.3.simple = glm.nb(V1 ~ V2, data = df.mod)\n",
    "summary(m.3.simple, cor = F)"
   ]
  },
  {
   "cell_type": "markdown",
   "metadata": {},
   "source": [
    "[Testing negative binomial against Poisson in a likelihood ratio test](http://stats.stackexchange.com/questions/49614/comparing-two-vectors-from-negative-binomial-distribution-in-r)."
   ]
  },
  {
   "cell_type": "code",
   "execution_count": 67,
   "metadata": {
    "collapsed": false
   },
   "outputs": [
    {
     "data": {
      "text/plain": [
       "Loading required package: lattice\n",
       "Classes and Methods for R developed in the\n",
       "\n",
       "Political Science Computational Laboratory\n",
       "\n",
       "Department of Political Science\n",
       "\n",
       "Stanford University\n",
       "\n",
       "Simon Jackman\n",
       "\n",
       "hurdle and zeroinfl functions by Achim Zeileis\n",
       "\n",
       "Likelihood ratio test of H0: Poisson, as restricted NB model:\n",
       "n.b., the distribution of the test-statistic under H0 is non-standard\n",
       "e.g., see help(odTest) for details/references\n",
       "\n",
       "Critical value of test statistic at the alpha= 0.05 level: 2.7055 \n",
       "Chi-Square Test Statistic =  10615.4164 p-value = < 2.2e-16 \n"
      ]
     },
     "metadata": {},
     "output_type": "display_data"
    }
   ],
   "source": [
    "%%R\n",
    "library(pscl)\n",
    "odTest(m.3.simple)"
   ]
  },
  {
   "cell_type": "markdown",
   "metadata": {},
   "source": [
    "[Additional details on fitting discrete distributions](http://stats.stackexchange.com/questions/66192/how-to-fit-a-discrete-distribution-to-count-data)"
   ]
  },
  {
   "cell_type": "markdown",
   "metadata": {},
   "source": [
    "##ADD: other categorical variables for the analysis of deviance and run step-wise reduction of the model."
   ]
  },
  {
   "cell_type": "markdown",
   "metadata": {},
   "source": [
    "Does the speckle count correlate with any of the texture descriptors?"
   ]
  },
  {
   "cell_type": "markdown",
   "metadata": {},
   "source": [
    "Lamin to internal signal ratio?"
   ]
  },
  {
   "cell_type": "markdown",
   "metadata": {},
   "source": [
    "Internal signal per se?"
   ]
  },
  {
   "cell_type": "code",
   "execution_count": null,
   "metadata": {
    "collapsed": true
   },
   "outputs": [],
   "source": []
  },
  {
   "cell_type": "code",
   "execution_count": null,
   "metadata": {
    "collapsed": true
   },
   "outputs": [],
   "source": []
  },
  {
   "cell_type": "code",
   "execution_count": null,
   "metadata": {
    "collapsed": true
   },
   "outputs": [],
   "source": []
  },
  {
   "cell_type": "code",
   "execution_count": null,
   "metadata": {
    "collapsed": true
   },
   "outputs": [],
   "source": []
  },
  {
   "cell_type": "code",
   "execution_count": null,
   "metadata": {
    "collapsed": true
   },
   "outputs": [],
   "source": []
  },
  {
   "cell_type": "code",
   "execution_count": null,
   "metadata": {
    "collapsed": true
   },
   "outputs": [],
   "source": []
  },
  {
   "cell_type": "code",
   "execution_count": null,
   "metadata": {
    "collapsed": true
   },
   "outputs": [],
   "source": []
  },
  {
   "cell_type": "code",
   "execution_count": null,
   "metadata": {
    "collapsed": true
   },
   "outputs": [],
   "source": []
  },
  {
   "cell_type": "markdown",
   "metadata": {},
   "source": []
  },
  {
   "cell_type": "markdown",
   "metadata": {},
   "source": [
    "### AWG favorite variables"
   ]
  },
  {
   "cell_type": "code",
   "execution_count": 68,
   "metadata": {
    "collapsed": false,
    "scrolled": true
   },
   "outputs": [
    {
     "data": {
      "image/png": "[encoded data removed]"
     },
     "metadata": {},
     "output_type": "display_data"
    }
   ],
   "source": [
    "%%R\n",
    "library(ggplot2)\n",
    "#Math_AreaSquareMicron \n",
    "plot.1.m=ggplot() \n",
    "plot.1.m = plot.1.m+geom_violin(data=df_n,aes(x=Metadata_Treatment,y=Math_AreaSquareMicron ,fill=factor(Metadata_Treatment)))\n",
    "plot.1.m+theme(legend.position='none')+scale_fill_manual(values=c('#F8766D','#00BFC4'))\n",
    "\n",
    "#ggsave('../Plots/TPX2_violin_Math_AspectRatio_5.pdf')"
   ]
  },
  {
   "cell_type": "code",
   "execution_count": 69,
   "metadata": {
    "collapsed": false
   },
   "outputs": [],
   "source": [
    "pattern = re.compile('.*Area.*',re.IGNORECASE)"
   ]
  },
  {
   "cell_type": "code",
   "execution_count": 70,
   "metadata": {
    "collapsed": false,
    "scrolled": true
   },
   "outputs": [
    {
     "data": {
      "text/plain": [
       "['AreaShape_Area',\n",
       " 'AreaShape_Center_X',\n",
       " 'AreaShape_Center_Y',\n",
       " 'AreaShape_Compactness',\n",
       " 'AreaShape_Eccentricity',\n",
       " 'AreaShape_EulerNumber',\n",
       " 'AreaShape_Extent',\n",
       " 'AreaShape_FormFactor',\n",
       " 'AreaShape_MajorAxisLength',\n",
       " 'AreaShape_MaxFeretDiameter',\n",
       " 'AreaShape_MaximumRadius',\n",
       " 'AreaShape_MeanRadius',\n",
       " 'AreaShape_MedianRadius',\n",
       " 'AreaShape_MinFeretDiameter',\n",
       " 'AreaShape_MinorAxisLength',\n",
       " 'AreaShape_Orientation',\n",
       " 'AreaShape_Perimeter',\n",
       " 'AreaShape_Solidity',\n",
       " 'AreaShape_Zernike_0_0',\n",
       " 'AreaShape_Zernike_1_1',\n",
       " 'AreaShape_Zernike_2_0',\n",
       " 'AreaShape_Zernike_2_2',\n",
       " 'AreaShape_Zernike_3_1',\n",
       " 'AreaShape_Zernike_3_3',\n",
       " 'AreaShape_Zernike_4_0',\n",
       " 'AreaShape_Zernike_4_2',\n",
       " 'AreaShape_Zernike_4_4',\n",
       " 'AreaShape_Zernike_5_1',\n",
       " 'AreaShape_Zernike_5_3',\n",
       " 'AreaShape_Zernike_5_5',\n",
       " 'AreaShape_Zernike_6_0',\n",
       " 'AreaShape_Zernike_6_2',\n",
       " 'AreaShape_Zernike_6_4',\n",
       " 'AreaShape_Zernike_6_6',\n",
       " 'AreaShape_Zernike_7_1',\n",
       " 'AreaShape_Zernike_7_3',\n",
       " 'AreaShape_Zernike_7_5',\n",
       " 'AreaShape_Zernike_7_7',\n",
       " 'AreaShape_Zernike_8_0',\n",
       " 'AreaShape_Zernike_8_2',\n",
       " 'AreaShape_Zernike_8_4',\n",
       " 'AreaShape_Zernike_8_6',\n",
       " 'AreaShape_Zernike_8_8',\n",
       " 'AreaShape_Zernike_9_1',\n",
       " 'AreaShape_Zernike_9_3',\n",
       " 'AreaShape_Zernike_9_5',\n",
       " 'AreaShape_Zernike_9_7',\n",
       " 'AreaShape_Zernike_9_9',\n",
       " 'Math_AreaSquareMicron',\n",
       " 'Math_TotalSpeckleToNucleusArea']"
      ]
     },
     "execution_count": 70,
     "metadata": {},
     "output_type": "execute_result"
    }
   ],
   "source": [
    "[re.match(pattern, colName).group() for colName in df_n.columns.tolist() if re.match(pattern, colName) != None]"
   ]
  },
  {
   "cell_type": "code",
   "execution_count": 71,
   "metadata": {
    "collapsed": false,
    "scrolled": true
   },
   "outputs": [
    {
     "data": {
      "text/plain": [
       "['Texture_AngularSecondMoment_RawInput_10_0',\n",
       " 'Texture_AngularSecondMoment_RawInput_10_90',\n",
       " 'Texture_AngularSecondMoment_RawInput_5_0',\n",
       " 'Texture_AngularSecondMoment_RawInput_5_90',\n",
       " 'Texture_Contrast_RawInput_10_0',\n",
       " 'Texture_Contrast_RawInput_10_90',\n",
       " 'Texture_Contrast_RawInput_5_0',\n",
       " 'Texture_Contrast_RawInput_5_90',\n",
       " 'Texture_Correlation_RawInput_10_0',\n",
       " 'Texture_Correlation_RawInput_10_90',\n",
       " 'Texture_Correlation_RawInput_5_0',\n",
       " 'Texture_Correlation_RawInput_5_90',\n",
       " 'Texture_DifferenceEntropy_RawInput_10_0',\n",
       " 'Texture_DifferenceEntropy_RawInput_10_90',\n",
       " 'Texture_DifferenceEntropy_RawInput_5_0',\n",
       " 'Texture_DifferenceEntropy_RawInput_5_90',\n",
       " 'Texture_DifferenceVariance_RawInput_10_0',\n",
       " 'Texture_DifferenceVariance_RawInput_10_90',\n",
       " 'Texture_DifferenceVariance_RawInput_5_0',\n",
       " 'Texture_DifferenceVariance_RawInput_5_90',\n",
       " 'Texture_Entropy_RawInput_10_0',\n",
       " 'Texture_Entropy_RawInput_10_90',\n",
       " 'Texture_Entropy_RawInput_5_0',\n",
       " 'Texture_Entropy_RawInput_5_90',\n",
       " 'Texture_InfoMeas1_RawInput_10_0',\n",
       " 'Texture_InfoMeas1_RawInput_10_90',\n",
       " 'Texture_InfoMeas1_RawInput_5_0',\n",
       " 'Texture_InfoMeas1_RawInput_5_90',\n",
       " 'Texture_InfoMeas2_RawInput_10_0',\n",
       " 'Texture_InfoMeas2_RawInput_10_90',\n",
       " 'Texture_InfoMeas2_RawInput_5_0',\n",
       " 'Texture_InfoMeas2_RawInput_5_90',\n",
       " 'Texture_InverseDifferenceMoment_RawInput_10_0',\n",
       " 'Texture_InverseDifferenceMoment_RawInput_10_90',\n",
       " 'Texture_InverseDifferenceMoment_RawInput_5_0',\n",
       " 'Texture_InverseDifferenceMoment_RawInput_5_90',\n",
       " 'Texture_SumAverage_RawInput_10_0',\n",
       " 'Texture_SumAverage_RawInput_10_90',\n",
       " 'Texture_SumAverage_RawInput_5_0',\n",
       " 'Texture_SumAverage_RawInput_5_90',\n",
       " 'Texture_SumEntropy_RawInput_10_0',\n",
       " 'Texture_SumEntropy_RawInput_10_90',\n",
       " 'Texture_SumEntropy_RawInput_5_0',\n",
       " 'Texture_SumEntropy_RawInput_5_90',\n",
       " 'Texture_SumVariance_RawInput_10_0',\n",
       " 'Texture_SumVariance_RawInput_10_90',\n",
       " 'Texture_SumVariance_RawInput_5_0',\n",
       " 'Texture_SumVariance_RawInput_5_90',\n",
       " 'Texture_Variance_RawInput_10_0',\n",
       " 'Texture_Variance_RawInput_10_90',\n",
       " 'Texture_Variance_RawInput_5_0',\n",
       " 'Texture_Variance_RawInput_5_90']"
      ]
     },
     "execution_count": 71,
     "metadata": {},
     "output_type": "execute_result"
    }
   ],
   "source": [
    "pattern = re.compile('.*texture.*',re.IGNORECASE)\n",
    "[re.match(pattern, colName).group() for colName in df_n.columns.tolist() if re.match(pattern, colName) != None]"
   ]
  },
  {
   "cell_type": "code",
   "execution_count": 72,
   "metadata": {
    "collapsed": false,
    "scrolled": true
   },
   "outputs": [
    {
     "data": {
      "text/plain": [
       "['AreaShape_Area',\n",
       " 'AreaShape_Center_X',\n",
       " 'AreaShape_Center_Y',\n",
       " 'AreaShape_Compactness',\n",
       " 'AreaShape_Eccentricity',\n",
       " 'AreaShape_EulerNumber',\n",
       " 'AreaShape_Extent',\n",
       " 'AreaShape_FormFactor',\n",
       " 'AreaShape_MajorAxisLength',\n",
       " 'AreaShape_MaxFeretDiameter',\n",
       " 'AreaShape_MaximumRadius',\n",
       " 'AreaShape_MeanRadius',\n",
       " 'AreaShape_MedianRadius',\n",
       " 'AreaShape_MinFeretDiameter',\n",
       " 'AreaShape_MinorAxisLength',\n",
       " 'AreaShape_Orientation',\n",
       " 'AreaShape_Perimeter',\n",
       " 'AreaShape_Solidity',\n",
       " 'AreaShape_Zernike_0_0',\n",
       " 'AreaShape_Zernike_1_1',\n",
       " 'AreaShape_Zernike_2_0',\n",
       " 'AreaShape_Zernike_2_2',\n",
       " 'AreaShape_Zernike_3_1',\n",
       " 'AreaShape_Zernike_3_3',\n",
       " 'AreaShape_Zernike_4_0',\n",
       " 'AreaShape_Zernike_4_2',\n",
       " 'AreaShape_Zernike_4_4',\n",
       " 'AreaShape_Zernike_5_1',\n",
       " 'AreaShape_Zernike_5_3',\n",
       " 'AreaShape_Zernike_5_5',\n",
       " 'AreaShape_Zernike_6_0',\n",
       " 'AreaShape_Zernike_6_2',\n",
       " 'AreaShape_Zernike_6_4',\n",
       " 'AreaShape_Zernike_6_6',\n",
       " 'AreaShape_Zernike_7_1',\n",
       " 'AreaShape_Zernike_7_3',\n",
       " 'AreaShape_Zernike_7_5',\n",
       " 'AreaShape_Zernike_7_7',\n",
       " 'AreaShape_Zernike_8_0',\n",
       " 'AreaShape_Zernike_8_2',\n",
       " 'AreaShape_Zernike_8_4',\n",
       " 'AreaShape_Zernike_8_6',\n",
       " 'AreaShape_Zernike_8_8',\n",
       " 'AreaShape_Zernike_9_1',\n",
       " 'AreaShape_Zernike_9_3',\n",
       " 'AreaShape_Zernike_9_5',\n",
       " 'AreaShape_Zernike_9_7',\n",
       " 'AreaShape_Zernike_9_9',\n",
       " 'Math_AreaSquareMicron',\n",
       " 'Math_TotalSpeckleToNucleusArea']"
      ]
     },
     "execution_count": 72,
     "metadata": {},
     "output_type": "execute_result"
    }
   ],
   "source": [
    "pattern = re.compile('.*area.*',re.IGNORECASE)\n",
    "[re.match(pattern, colName).group() for colName in df_n.columns.tolist() if re.match(pattern, colName) != None]"
   ]
  },
  {
   "cell_type": "code",
   "execution_count": 73,
   "metadata": {
    "collapsed": false
   },
   "outputs": [
    {
     "data": {
      "image/png": "[encoded data removed]"
     },
     "metadata": {},
     "output_type": "display_data"
    }
   ],
   "source": [
    "%%R\n",
    "#Math_AreaSquareMicron \n",
    "plot.1.a=ggplot() \n",
    "plot.1.a = plot.1.a+geom_violin(data=df_n,aes(x=as.factor(Metadata_Treatment),y=AreaShape_Area*0.01098438 ,fill=factor(Metadata_Treatment)))\n",
    "plot.1.a+theme(legend.position='none')+scale_fill_manual(values=c('#F8766D','#00BFC4'))\n",
    "\n",
    "#ggsave('../Plots/Nuclei_Area_orig.pdf')"
   ]
  },
  {
   "cell_type": "code",
   "execution_count": 74,
   "metadata": {
    "collapsed": false
   },
   "outputs": [
    {
     "data": {
      "image/png": "[encoded data removed]"
     },
     "metadata": {},
     "output_type": "display_data"
    }
   ],
   "source": [
    "%%R\n",
    "#Math_AreaSquareMicron \n",
    "plot.1.a=ggplot() \n",
    "plot.1.a = plot.1.a+geom_violin(data=df_n,aes(x=as.factor(Metadata_Treatment),y=Math_AreaSquareMicron ,fill=factor(Metadata_Treatment)))\n",
    "plot.1.a+theme(legend.position='none')+scale_fill_manual(values=c('#F8766D','#00BFC4'))\n",
    "\n",
    "#plot.1 = plot.1+geom_violin(data=df_cont,aes(x=Metadata_Treatment,y=1/Math_AspectRatio ,fill=factor(Metadata_Treatment)))\n",
    "#plot.1+theme(legend.position='none')+scale_fill_manual(values=c('#7F7F7F','#179B33'))\n",
    "\n",
    "#ggsave('../Plots/Nuclei_Area_alternative.pdf')"
   ]
  },
  {
   "cell_type": "code",
   "execution_count": 75,
   "metadata": {
    "collapsed": false
   },
   "outputs": [
    {
     "data": {
      "text/plain": [
       "[1] 155\n"
      ]
     },
     "metadata": {},
     "output_type": "display_data"
    }
   ],
   "source": [
    "%%R\n",
    "length(df_n)"
   ]
  },
  {
   "cell_type": "markdown",
   "metadata": {},
   "source": [
    "As we don't know a priori which variables are different, we will correct for multiple comparisons. The n for BH correction will be the number of numerical variables in the dataset. See above."
   ]
  },
  {
   "cell_type": "code",
   "execution_count": 76,
   "metadata": {
    "collapsed": false
   },
   "outputs": [
    {
     "data": {
      "text/plain": [
       "[1] 0.0004227373\n",
       "[1] 0.05918322\n"
      ]
     },
     "metadata": {},
     "output_type": "display_data"
    }
   ],
   "source": [
    "%%R\n",
    "C=df_n[df_n$Metadata_Treatment!='R3-4si',]$Math_AreaSquareMicron\n",
    "E=df_n[df_n$Metadata_Treatment=='R3-4si',]$Math_AreaSquareMicron\n",
    "#plot(seq(0,1,length=length(C)), cumsum(sort(C)/sum(C)),type='l',col='blue',ylab='cumulative probability',xlab='index')\n",
    "#lines( seq(0,1,length=length(E)), cumsum(sort(E)/sum(E)), col='red')\n",
    "#print(ks.test(df_no_centers[df_no_centers$Metadata_Treatment==0,]$Euclidian_norm_centers,df_no_centers[df_no_centers$Metadata_Treatment!=0,]$Euclidian_norm_centers,))\n",
    "print(ks.test(C,E)[[2]])\n",
    "print(p.adjust(ks.test(C,E)[[2]], method = \"BH\", n=140))"
   ]
  },
  {
   "cell_type": "code",
   "execution_count": 77,
   "metadata": {
    "collapsed": false
   },
   "outputs": [
    {
     "data": {
      "image/png": "[encoded data removed]"
     },
     "metadata": {},
     "output_type": "display_data"
    }
   ],
   "source": [
    "%%R\n",
    "library(ggplot2)\n",
    "#Texture_Correlation_RawInput_10_0\n",
    "plot.2.m=ggplot() \n",
    "plot.2.m = plot.2.m+geom_violin(data=df_n,aes(x=Metadata_Treatment,y=Texture_Correlation_RawInput_10_0 ,fill=factor(Metadata_Treatment)))\n",
    "plot.2.m+theme(legend.position='none')+scale_fill_manual(values=c('#F8766D','#00BFC4'))\n",
    "\n",
    "#ggsave('../Plots/Nuclei_Texture_Correlation_RawInput_10_0_alternative.pdf')"
   ]
  },
  {
   "cell_type": "code",
   "execution_count": 78,
   "metadata": {
    "collapsed": false,
    "scrolled": false
   },
   "outputs": [
    {
     "data": {
      "image/png": "[encoded data removed]"
     },
     "metadata": {},
     "output_type": "display_data"
    }
   ],
   "source": [
    "%%R\n",
    "library(ggplot2)\n",
    "#Math_AreaSquareMicron \n",
    "plot.2.m=ggplot() \n",
    "plot.2.m = plot.2.m+geom_violin(data=df_n,aes(x=Metadata_Treatment,y=Texture_Correlation_RawInput_10_90 ,fill=factor(Metadata_Treatment)))\n",
    "plot.2.m+theme(legend.position='none')+scale_fill_manual(values=c('#F8766D','#00BFC4'))\n",
    "#ggsave('../Plots/Texture_Correlation_RawInput_10_90_alternative.pdf')"
   ]
  },
  {
   "cell_type": "code",
   "execution_count": 79,
   "metadata": {
    "collapsed": false
   },
   "outputs": [
    {
     "data": {
      "image/png": "[encoded data removed]"
     },
     "metadata": {},
     "output_type": "display_data"
    }
   ],
   "source": [
    "%%R\n",
    "library(ggplot2)\n",
    "#Texture_Correlation_RawInput_5_0\n",
    "plot.2.m=ggplot() \n",
    "plot.2.m = plot.2.m+geom_violin(data=df_n,aes(x=Metadata_Treatment,y=Texture_Correlation_RawInput_5_0 ,fill=factor(Metadata_Treatment)))\n",
    "plot.2.m+theme(legend.position='none')+scale_fill_manual(values=c('#F8766D','#00BFC4'))\n",
    "#ggsave('../Plots/Texture_Correlation_RawInput_5_0_alternative.pdf')"
   ]
  },
  {
   "cell_type": "code",
   "execution_count": 80,
   "metadata": {
    "collapsed": false
   },
   "outputs": [
    {
     "data": {
      "image/png": "[encoded data removed]"
     },
     "metadata": {},
     "output_type": "display_data"
    }
   ],
   "source": [
    "%%R\n",
    "library(ggplot2)\n",
    "#Texture_Correlation_RawInput_5_90 \n",
    "plot.2.m=ggplot() \n",
    "plot.2.m = plot.2.m+geom_violin(data=df_n,aes(x=Metadata_Treatment,y=Texture_Correlation_RawInput_5_90 ,fill=factor(Metadata_Treatment)))\n",
    "plot.2.m+theme(legend.position='none')+scale_fill_manual(values=c('#F8766D','#00BFC4'))\n",
    "#ggsave('../Plots/Texture_Correlation_RawInput_5_90_alternative.pdf')"
   ]
  },
  {
   "cell_type": "code",
   "execution_count": 81,
   "metadata": {
    "collapsed": false
   },
   "outputs": [
    {
     "data": {
      "image/png": "[encoded data removed]"
     },
     "metadata": {},
     "output_type": "display_data"
    }
   ],
   "source": [
    "%%R\n",
    "library(ggplot2)\n",
    "#AreaShape_Eccentricity\n",
    "plot.2.m=ggplot() \n",
    "plot.2.m = plot.2.m+geom_violin(data=df_n,aes(x=Metadata_Treatment,y=AreaShape_Eccentricity ,fill=factor(Metadata_Treatment)))\n",
    "plot.2.m+theme(legend.position='none')+scale_fill_manual(values=c('#F8766D','#00BFC4'))+ylim(0.0,1.0)\n",
    "#ggsave('../Plots/Nuclei_AreaShape_Eccentricity_alternative.pdf')"
   ]
  },
  {
   "cell_type": "code",
   "execution_count": 82,
   "metadata": {
    "collapsed": false
   },
   "outputs": [
    {
     "data": {
      "image/png": "[encoded data removed]"
     },
     "metadata": {},
     "output_type": "display_data"
    }
   ],
   "source": [
    "%%R\n",
    "library(ggplot2)\n",
    "#1/log(AreaShape_Solidity \n",
    "plot.2.m=ggplot() \n",
    "plot.2.m = plot.2.m+geom_violin(data=df_n,aes(x=Metadata_Treatment,y=1/log(AreaShape_Solidity) ,fill=factor(Metadata_Treatment)))\n",
    "plot.2.m+theme(legend.position='none')+scale_fill_manual(values=c('#F8766D','#00BFC4'))"
   ]
  },
  {
   "cell_type": "code",
   "execution_count": 83,
   "metadata": {
    "collapsed": false
   },
   "outputs": [
    {
     "data": {
      "image/png": "[encoded data removed]"
     },
     "metadata": {},
     "output_type": "display_data"
    }
   ],
   "source": [
    "%%R\n",
    "library(ggplot2)\n",
    "#AreaShape_Solidity\n",
    "plot.2.m=ggplot() \n",
    "plot.2.m = plot.2.m+geom_violin(data=df_n,aes(x=Metadata_Treatment,y=(AreaShape_Solidity) ,fill=factor(Metadata_Treatment)))\n",
    "plot.2.m+theme(legend.position='none')+scale_fill_manual(values=c('#F8766D','#00BFC4')) + ylim(0.3,1.0)\n",
    "#ggsave('../Plots/Nuclei_AreaShape_Solidity_alternative.pdf')"
   ]
  },
  {
   "cell_type": "code",
   "execution_count": 84,
   "metadata": {
    "collapsed": false
   },
   "outputs": [
    {
     "data": {
      "text/plain": [
       "\n",
       "\tTwo-sample Kolmogorov-Smirnov test\n",
       "\n",
       "data:  C and E\n",
       "D = 0.096024, p-value = 1.853e-07\n",
       "alternative hypothesis: two-sided\n",
       "\n"
      ]
     },
     "metadata": {},
     "output_type": "display_data"
    }
   ],
   "source": [
    "%%R\n",
    "C=df_n[df_n$Metadata_Treatment!='R3-4si',]$AreaShape_Solidity\n",
    "E=df_n[df_n$Metadata_Treatment=='R3-4si',]$AreaShape_Solidity\n",
    "#plot(seq(0,1,length=length(C)), cumsum(sort(C)/sum(C)),type='l',col='blue',ylab='cumulative probability',xlab='index')\n",
    "#lines( seq(0,1,length=length(E)), cumsum(sort(E)/sum(E)), col='red')\n",
    "#print(ks.test(df_no_centers[df_no_centers$Metadata_Treatment==0,]$Euclidian_norm_centers,df_no_centers[df_no_centers$Metadata_Treatment!=0,]$Euclidian_norm_centers,))\n",
    "print(ks.test(C,E))"
   ]
  },
  {
   "cell_type": "markdown",
   "metadata": {
    "collapsed": true
   },
   "source": [
    "#IV. Data tranformation for modelling\n"
   ]
  },
  {
   "cell_type": "markdown",
   "metadata": {},
   "source": [
    "Requires transforming data to normal like, centering and scaling. We'll use a maximum likelihood estimation of the transformation parameter."
   ]
  },
  {
   "cell_type": "code",
   "execution_count": 85,
   "metadata": {
    "collapsed": false
   },
   "outputs": [],
   "source": [
    "%%R\n",
    "library(caret)\n",
    "convert_data_type=function(data_frame){\n",
    "\n",
    "    for (col in names(data_frame)){\n",
    "        data_frame[,col]<-as.numeric(data_frame[,col])\n",
    "    }\n",
    "    \n",
    "    return(data_frame)\n",
    "}\n",
    "\n",
    "df_n_num=convert_data_type(df_n_num)\n",
    "df_sn_num=convert_data_type(df_sn_num)\n",
    "df_sp_num =convert_data_type(df_sp_num)\n"
   ]
  },
  {
   "cell_type": "code",
   "execution_count": 86,
   "metadata": {
    "collapsed": true
   },
   "outputs": [],
   "source": [
    "%%R\n",
    "trans_n = preProcess(df_n_num, method=c('BoxCox','center','scale'))\n",
    "trans_sn = preProcess(df_sn_num, method=c('BoxCox','center','scale'))\n",
    "trans_sp = preProcess(df_sp_num, method=c('BoxCox','center','scale'))"
   ]
  },
  {
   "cell_type": "code",
   "execution_count": 87,
   "metadata": {
    "collapsed": true
   },
   "outputs": [],
   "source": [
    "%%R\n",
    "df_n_num_trans = predict(trans_n, df_n_num)\n",
    "df_sn_num_trans = predict(trans_sn, df_sn_num)\n",
    "df_sp_num_trans = predict(trans_sp, df_sp_num)"
   ]
  },
  {
   "cell_type": "markdown",
   "metadata": {},
   "source": [
    "#V. Feature selection\n"
   ]
  },
  {
   "cell_type": "markdown",
   "metadata": {},
   "source": [
    "From experimental point of view, this may be the most actionable information."
   ]
  },
  {
   "cell_type": "markdown",
   "metadata": {},
   "source": [
    "#V. Classification model for phenotype scoring\n"
   ]
  },
  {
   "cell_type": "markdown",
   "metadata": {},
   "source": [
    "Allows for unbiased experiment quantification based on the CP output."
   ]
  },
  {
   "cell_type": "code",
   "execution_count": null,
   "metadata": {
    "collapsed": true
   },
   "outputs": [],
   "source": []
  }
 ],
 "metadata": {
  "kernelspec": {
   "display_name": "Python 2",
   "language": "python",
   "name": "python2"
  },
  "language_info": {
   "codemirror_mode": {
    "name": "ipython",
    "version": 2
   },
   "file_extension": ".py",
   "mimetype": "text/x-python",
   "name": "python",
   "nbconvert_exporter": "python",
   "pygments_lexer": "ipython2",
   "version": "2.7.9"
  }
 },
 "nbformat": 4,
 "nbformat_minor": 0
}
